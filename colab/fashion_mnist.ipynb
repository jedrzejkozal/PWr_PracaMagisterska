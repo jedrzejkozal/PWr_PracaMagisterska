{
  "nbformat": 4,
  "nbformat_minor": 0,
  "metadata": {
    "colab": {
      "name": "fashion_mnist.ipynb",
      "version": "0.3.2",
      "provenance": [],
      "collapsed_sections": []
    },
    "kernelspec": {
      "name": "python3",
      "display_name": "Python 3"
    },
    "accelerator": "TPU"
  },
  "cells": [
    {
      "cell_type": "code",
      "metadata": {
        "id": "GxnpJ6KY7Lg9",
        "colab_type": "code",
        "outputId": "e6d15c96-f7e9-4a63-815d-4d82a6e02b03",
        "colab": {
          "base_uri": "https://localhost:8080/",
          "height": 34
        }
      },
      "source": [
        "import os\n",
        "import numpy as np\n",
        "\n",
        "from keras.utils import to_categorical\n",
        "from keras.datasets import fashion_mnist\n",
        "from keras.layers import Conv2D, MaxPooling2D\n",
        "from keras.layers import BatchNormalization\n",
        "from keras.preprocessing.image import ImageDataGenerator\n",
        "from keras.callbacks import EarlyStopping, ReduceLROnPlateau\n",
        "from keras.optimizers import Adam\n",
        "from keras.models import Sequential\n",
        "from keras.regularizers import l1, l2"
      ],
      "execution_count": 0,
      "outputs": [
        {
          "output_type": "stream",
          "text": [
            "Using TensorFlow backend.\n"
          ],
          "name": "stderr"
        }
      ]
    },
    {
      "cell_type": "code",
      "metadata": {
        "id": "J1uKmH81LHm1",
        "colab_type": "code",
        "outputId": "bedfb2de-f484-4aee-c7bd-dd2af3918753",
        "colab": {
          "base_uri": "https://localhost:8080/",
          "height": 51
        }
      },
      "source": [
        "!pip install -U -q PyDrive"
      ],
      "execution_count": 0,
      "outputs": [
        {
          "output_type": "stream",
          "text": [
            "\u001b[?25l\r\u001b[K     |▎                               | 10kB 17.5MB/s eta 0:00:01\r\u001b[K     |▋                               | 20kB 2.2MB/s eta 0:00:01\r\u001b[K     |█                               | 30kB 3.2MB/s eta 0:00:01\r\u001b[K     |█▎                              | 40kB 2.1MB/s eta 0:00:01\r\u001b[K     |█▋                              | 51kB 2.5MB/s eta 0:00:01\r\u001b[K     |██                              | 61kB 3.0MB/s eta 0:00:01\r\u001b[K     |██▎                             | 71kB 3.5MB/s eta 0:00:01\r\u001b[K     |██▋                             | 81kB 3.9MB/s eta 0:00:01\r\u001b[K     |███                             | 92kB 4.4MB/s eta 0:00:01\r\u001b[K     |███▎                            | 102kB 3.4MB/s eta 0:00:01\r\u001b[K     |███▋                            | 112kB 3.4MB/s eta 0:00:01\r\u001b[K     |████                            | 122kB 3.4MB/s eta 0:00:01\r\u001b[K     |████▎                           | 133kB 3.4MB/s eta 0:00:01\r\u001b[K     |████▋                           | 143kB 3.4MB/s eta 0:00:01\r\u001b[K     |█████                           | 153kB 3.4MB/s eta 0:00:01\r\u001b[K     |█████▎                          | 163kB 3.4MB/s eta 0:00:01\r\u001b[K     |█████▋                          | 174kB 3.4MB/s eta 0:00:01\r\u001b[K     |██████                          | 184kB 3.4MB/s eta 0:00:01\r\u001b[K     |██████▎                         | 194kB 3.4MB/s eta 0:00:01\r\u001b[K     |██████▋                         | 204kB 3.4MB/s eta 0:00:01\r\u001b[K     |███████                         | 215kB 3.4MB/s eta 0:00:01\r\u001b[K     |███████▎                        | 225kB 3.4MB/s eta 0:00:01\r\u001b[K     |███████▋                        | 235kB 3.4MB/s eta 0:00:01\r\u001b[K     |████████                        | 245kB 3.4MB/s eta 0:00:01\r\u001b[K     |████████▎                       | 256kB 3.4MB/s eta 0:00:01\r\u001b[K     |████████▋                       | 266kB 3.4MB/s eta 0:00:01\r\u001b[K     |█████████                       | 276kB 3.4MB/s eta 0:00:01\r\u001b[K     |█████████▎                      | 286kB 3.4MB/s eta 0:00:01\r\u001b[K     |█████████▋                      | 296kB 3.4MB/s eta 0:00:01\r\u001b[K     |██████████                      | 307kB 3.4MB/s eta 0:00:01\r\u001b[K     |██████████▎                     | 317kB 3.4MB/s eta 0:00:01\r\u001b[K     |██████████▋                     | 327kB 3.4MB/s eta 0:00:01\r\u001b[K     |███████████                     | 337kB 3.4MB/s eta 0:00:01\r\u001b[K     |███████████▎                    | 348kB 3.4MB/s eta 0:00:01\r\u001b[K     |███████████▋                    | 358kB 3.4MB/s eta 0:00:01\r\u001b[K     |████████████                    | 368kB 3.4MB/s eta 0:00:01\r\u001b[K     |████████████▎                   | 378kB 3.4MB/s eta 0:00:01\r\u001b[K     |████████████▋                   | 389kB 3.4MB/s eta 0:00:01\r\u001b[K     |█████████████                   | 399kB 3.4MB/s eta 0:00:01\r\u001b[K     |█████████████▎                  | 409kB 3.4MB/s eta 0:00:01\r\u001b[K     |█████████████▋                  | 419kB 3.4MB/s eta 0:00:01\r\u001b[K     |██████████████                  | 430kB 3.4MB/s eta 0:00:01\r\u001b[K     |██████████████▎                 | 440kB 3.4MB/s eta 0:00:01\r\u001b[K     |██████████████▋                 | 450kB 3.4MB/s eta 0:00:01\r\u001b[K     |███████████████                 | 460kB 3.4MB/s eta 0:00:01\r\u001b[K     |███████████████▎                | 471kB 3.4MB/s eta 0:00:01\r\u001b[K     |███████████████▋                | 481kB 3.4MB/s eta 0:00:01\r\u001b[K     |████████████████                | 491kB 3.4MB/s eta 0:00:01\r\u001b[K     |████████████████▎               | 501kB 3.4MB/s eta 0:00:01\r\u001b[K     |████████████████▋               | 512kB 3.4MB/s eta 0:00:01\r\u001b[K     |█████████████████               | 522kB 3.4MB/s eta 0:00:01\r\u001b[K     |█████████████████▎              | 532kB 3.4MB/s eta 0:00:01\r\u001b[K     |█████████████████▋              | 542kB 3.4MB/s eta 0:00:01\r\u001b[K     |██████████████████              | 552kB 3.4MB/s eta 0:00:01\r\u001b[K     |██████████████████▎             | 563kB 3.4MB/s eta 0:00:01\r\u001b[K     |██████████████████▋             | 573kB 3.4MB/s eta 0:00:01\r\u001b[K     |███████████████████             | 583kB 3.4MB/s eta 0:00:01\r\u001b[K     |███████████████████▎            | 593kB 3.4MB/s eta 0:00:01\r\u001b[K     |███████████████████▋            | 604kB 3.4MB/s eta 0:00:01\r\u001b[K     |████████████████████            | 614kB 3.4MB/s eta 0:00:01\r\u001b[K     |████████████████████▎           | 624kB 3.4MB/s eta 0:00:01\r\u001b[K     |████████████████████▋           | 634kB 3.4MB/s eta 0:00:01\r\u001b[K     |█████████████████████           | 645kB 3.4MB/s eta 0:00:01\r\u001b[K     |█████████████████████▎          | 655kB 3.4MB/s eta 0:00:01\r\u001b[K     |█████████████████████▋          | 665kB 3.4MB/s eta 0:00:01\r\u001b[K     |██████████████████████          | 675kB 3.4MB/s eta 0:00:01\r\u001b[K     |██████████████████████▎         | 686kB 3.4MB/s eta 0:00:01\r\u001b[K     |██████████████████████▋         | 696kB 3.4MB/s eta 0:00:01\r\u001b[K     |███████████████████████         | 706kB 3.4MB/s eta 0:00:01\r\u001b[K     |███████████████████████▎        | 716kB 3.4MB/s eta 0:00:01\r\u001b[K     |███████████████████████▋        | 727kB 3.4MB/s eta 0:00:01\r\u001b[K     |████████████████████████        | 737kB 3.4MB/s eta 0:00:01\r\u001b[K     |████████████████████████▎       | 747kB 3.4MB/s eta 0:00:01\r\u001b[K     |████████████████████████▋       | 757kB 3.4MB/s eta 0:00:01\r\u001b[K     |████████████████████████▉       | 768kB 3.4MB/s eta 0:00:01\r\u001b[K     |█████████████████████████▏      | 778kB 3.4MB/s eta 0:00:01\r\u001b[K     |█████████████████████████▌      | 788kB 3.4MB/s eta 0:00:01\r\u001b[K     |█████████████████████████▉      | 798kB 3.4MB/s eta 0:00:01\r\u001b[K     |██████████████████████████▏     | 808kB 3.4MB/s eta 0:00:01\r\u001b[K     |██████████████████████████▌     | 819kB 3.4MB/s eta 0:00:01\r\u001b[K     |██████████████████████████▉     | 829kB 3.4MB/s eta 0:00:01\r\u001b[K     |███████████████████████████▏    | 839kB 3.4MB/s eta 0:00:01\r\u001b[K     |███████████████████████████▌    | 849kB 3.4MB/s eta 0:00:01\r\u001b[K     |███████████████████████████▉    | 860kB 3.4MB/s eta 0:00:01\r\u001b[K     |████████████████████████████▏   | 870kB 3.4MB/s eta 0:00:01\r\u001b[K     |████████████████████████████▌   | 880kB 3.4MB/s eta 0:00:01\r\u001b[K     |████████████████████████████▉   | 890kB 3.4MB/s eta 0:00:01\r\u001b[K     |█████████████████████████████▏  | 901kB 3.4MB/s eta 0:00:01\r\u001b[K     |█████████████████████████████▌  | 911kB 3.4MB/s eta 0:00:01\r\u001b[K     |█████████████████████████████▉  | 921kB 3.4MB/s eta 0:00:01\r\u001b[K     |██████████████████████████████▏ | 931kB 3.4MB/s eta 0:00:01\r\u001b[K     |██████████████████████████████▌ | 942kB 3.4MB/s eta 0:00:01\r\u001b[K     |██████████████████████████████▉ | 952kB 3.4MB/s eta 0:00:01\r\u001b[K     |███████████████████████████████▏| 962kB 3.4MB/s eta 0:00:01\r\u001b[K     |███████████████████████████████▌| 972kB 3.4MB/s eta 0:00:01\r\u001b[K     |███████████████████████████████▉| 983kB 3.4MB/s eta 0:00:01\r\u001b[K     |████████████████████████████████| 993kB 3.4MB/s \n",
            "\u001b[?25h  Building wheel for PyDrive (setup.py) ... \u001b[?25l\u001b[?25hdone\n"
          ],
          "name": "stdout"
        }
      ]
    },
    {
      "cell_type": "code",
      "metadata": {
        "id": "O0z0WvWZ78OU",
        "colab_type": "code",
        "outputId": "9b8e6250-d810-4c5b-9c40-3337b7bc464f",
        "colab": {
          "base_uri": "https://localhost:8080/",
          "height": 289
        }
      },
      "source": [
        "from pydrive.auth import GoogleAuth\n",
        "from pydrive.drive import GoogleDrive\n",
        "from google.colab import auth\n",
        "from oauth2client.client import GoogleCredentials\n",
        "\n",
        "auth.authenticate_user()\n",
        "gauth = GoogleAuth()\n",
        "gauth.credentials = GoogleCredentials.get_application_default()\n",
        "drive = GoogleDrive(gauth)\n",
        "\n",
        "def load_from_drive(name, id):\n",
        "    module = drive.CreateFile({'id': id})\n",
        "    module.GetContentFile(name)\n",
        "\n",
        "file_list = drive.ListFile({'q': \"'1CBd-myDP_NKbTovfcwYsam_0H06Bl2Q_' in parents and trashed=false\"}).GetList()\n",
        "for file in file_list:\n",
        "    if file['title'][-3:] == '.py':\n",
        "        print(\"load file: {}, id: {}\".format(file['title'], file['id']))\n",
        "        load_from_drive(file['title'], file['id'])\n",
        "\n",
        "from ReNetLayer import *\n",
        "from ReduceImbalance import *\n",
        "from HilbertLayer import *\n",
        "from ModifiedReNetLayer import *"
      ],
      "execution_count": 0,
      "outputs": [
        {
          "output_type": "stream",
          "text": [
            "\n",
            "WARNING: The TensorFlow contrib module will not be included in TensorFlow 2.0.\n",
            "For more information, please see:\n",
            "  * https://github.com/tensorflow/community/blob/master/rfcs/20180907-contrib-sunset.md\n",
            "  * https://github.com/tensorflow/addons\n",
            "If you depend on functionality not listed there, please file an issue.\n",
            "\n",
            "load file: ReNetLayer.py, id: 1oohHESF2OGoErRZoEftPAW3m5IXtcwGG\n",
            "load file: ModifiedReNetLayer.py, id: 11ylcxUGgwS5Yzf_8zRIUzz9a_c--lznh\n",
            "load file: ReduceImbalance.py, id: 1YG1ZkJfhrJeUNGGruk5iCsCKgK3ukM3H\n",
            "load file: HilbertLayer.py, id: 1FuFE0OpWp0BFxNFAYGBLmdLXcHkNOSYS\n",
            "load file: HilbertCurve.py, id: 1ABiyahqt1c1NkR2XIDyfvHyqHeCDkAn8\n",
            "load file: CommandsGenerator.py, id: 1o4ow1uW7-8cgiAm1fwTF7xyM9piB_ZQ2\n",
            "load file: ModelIfc.py, id: 1jsKb1mjhEIbAUaFW7BOZ0br8SNGXbr-p\n",
            "load file: RandomSearch.py, id: 1YXiIrn0osAW4wBBAsYxwAb8BeftQmWyB\n",
            "load file: KerasAdapter.py, id: 1cTv-dqemRA9j1xgd2TFVUNwtdqXqP3Hk\n"
          ],
          "name": "stdout"
        }
      ]
    },
    {
      "cell_type": "code",
      "metadata": {
        "id": "q350iF_L7r-p",
        "colab_type": "code",
        "outputId": "ba749374-f7f9-401e-9052-4215a6762e40",
        "colab": {
          "base_uri": "https://localhost:8080/",
          "height": 255
        }
      },
      "source": [
        "num_classes = 10\n",
        "img_rows, img_cols = 28, 28\n",
        "(x_train, y_train), (x_test, y_test) = fashion_mnist.load_data()\n",
        "\n",
        "x_train = x_train.reshape(x_train.shape[0], img_rows, img_cols, 1)\n",
        "x_test = x_test.reshape(x_test.shape[0], img_rows, img_cols, 1)\n",
        "input_shape = (img_rows, img_cols, 1)\n",
        "\n",
        "x_train = x_train.astype('float32')\n",
        "x_test = x_test.astype('float32')\n",
        "\n",
        "def normalize(matrix):\n",
        "    mu = np.mean(matrix, axis=0)\n",
        "    std = np.std(matrix, axis=0)\n",
        "    return (matrix - mu) / std\n",
        "\n",
        "x_train_data = normalize(x_train)\n",
        "x_test_data = normalize(x_test)\n",
        "\n",
        "print(\"x_train: \", x_train.shape)\n",
        "print(\"y_train: \", y_train.shape)\n",
        "print(\"x_test: \", x_test.shape)\n",
        "print(\"y_test: \", y_test.shape)\n",
        "\n",
        "print(\"y_train bincount: \", np.bincount(np.squeeze(y_train)))\n",
        "print(\"y_test bincount: \", np.bincount(np.squeeze(y_test)))\n",
        "\n",
        "# convert class vectors to binary class matrices\n",
        "y_train_data = to_categorical(y_train, num_classes)\n",
        "y_test_data = to_categorical(y_test, num_classes)"
      ],
      "execution_count": 0,
      "outputs": [
        {
          "output_type": "stream",
          "text": [
            "Downloading data from http://fashion-mnist.s3-website.eu-central-1.amazonaws.com/train-labels-idx1-ubyte.gz\n",
            "32768/29515 [=================================] - 0s 3us/step\n",
            "Downloading data from http://fashion-mnist.s3-website.eu-central-1.amazonaws.com/train-images-idx3-ubyte.gz\n",
            "26427392/26421880 [==============================] - 2s 0us/step\n",
            "Downloading data from http://fashion-mnist.s3-website.eu-central-1.amazonaws.com/t10k-labels-idx1-ubyte.gz\n",
            "8192/5148 [===============================================] - 0s 0us/step\n",
            "Downloading data from http://fashion-mnist.s3-website.eu-central-1.amazonaws.com/t10k-images-idx3-ubyte.gz\n",
            "4423680/4422102 [==============================] - 1s 0us/step\n",
            "x_train:  (60000, 28, 28, 1)\n",
            "y_train:  (60000,)\n",
            "x_test:  (10000, 28, 28, 1)\n",
            "y_test:  (10000,)\n",
            "y_train bincount:  [6000 6000 6000 6000 6000 6000 6000 6000 6000 6000]\n",
            "y_test bincount:  [1000 1000 1000 1000 1000 1000 1000 1000 1000 1000]\n"
          ],
          "name": "stdout"
        }
      ]
    },
    {
      "cell_type": "code",
      "metadata": {
        "id": "Aj6d2iJToajd",
        "colab_type": "code",
        "outputId": "9551b55e-7edb-43b6-9388-3d648f417c91",
        "colab": {
          "base_uri": "https://localhost:8080/",
          "height": 105
        }
      },
      "source": [
        "from PIL import Image\n",
        "\n",
        "def resize_data(data, new_size):\n",
        "    num_samples = data.shape[0]\n",
        "    resized = np.zeros((num_samples,)+new_size+(1,), dtype=data.dtype)\n",
        "\n",
        "    for i in range(num_samples):\n",
        "        img = Image.fromarray(np.squeeze(data[i]))\n",
        "        resized_img = np.asarray(img.resize(new_size))\n",
        "        resized[i] = np.expand_dims(resized_img, axis=3)\n",
        "    \n",
        "    return resized\n",
        "\n",
        "new_size = (32, 32)\n",
        "x_train_data = resize_data(x_train_data, new_size)\n",
        "x_test_data = resize_data(x_test_data, new_size)\n",
        "print(x_train_data.shape)\n",
        "print(x_test_data.shape)"
      ],
      "execution_count": 0,
      "outputs": [
        {
          "output_type": "stream",
          "text": [
            "/usr/local/lib/python3.6/dist-packages/ipykernel_launcher.py:10: DeprecationWarning: Both axis > a.ndim and axis < -a.ndim - 1 are deprecated and will raise an AxisError in the future.\n",
            "  # Remove the CWD from sys.path while we load stuff.\n"
          ],
          "name": "stderr"
        },
        {
          "output_type": "stream",
          "text": [
            "(60000, 32, 32, 1)\n",
            "(10000, 32, 32, 1)\n"
          ],
          "name": "stdout"
        }
      ]
    },
    {
      "cell_type": "code",
      "metadata": {
        "id": "4wDXzEmf8DEX",
        "colab_type": "code",
        "colab": {}
      },
      "source": [
        "def get_reNet(lr=0.001, dense_reg=l1(0.0000001), softmax_reg=l2(0.0000001), reNet_hidden_size=256):\n",
        "    model = Sequential()\n",
        "    \n",
        "    model.add(ReNetLayer([[2, 2]], reNet_hidden_size,\n",
        "            use_dropout=True, dropout_rate=0.1))\n",
        "    model.add(ReNetLayer([[2, 2]], reNet_hidden_size,\n",
        "            use_dropout=True, dropout_rate=0.1))\n",
        "\n",
        "    model.add(Flatten())\n",
        "    fully_conn_hidden_size = 4096\n",
        "    model.add(Dense(fully_conn_hidden_size, activation='relu', activity_regularizer=dense_reg))\n",
        "    model.add(Dropout(0.1))\n",
        "\n",
        "    num_classes = 10\n",
        "    model.add(Dense(num_classes, activation='softmax', kernel_regularizer=softmax_reg))\n",
        "\n",
        "    model.compile(loss='categorical_crossentropy',\n",
        "            optimizer=Adam(lr=lr),\n",
        "            metrics=['categorical_accuracy'])\n",
        "    \n",
        "    return model\n",
        "\n",
        "def get_modif_reNet(lr=0.001, dense_reg=None, softmax_reg=None):\n",
        "    model = Sequential()\n",
        "    \n",
        "    reNet_hidden_size = 256\n",
        "    model.add(HilbertLayer())\n",
        "    model.add(ModifiedReNetLayer(4, reNet_hidden_size,\n",
        "            use_dropout=True, dropout_rate=0.1))\n",
        "    model.add(ModifiedReNetLayer(4, reNet_hidden_size,\n",
        "            use_dropout=True, dropout_rate=0.1))\n",
        "    model.add(ModifiedReNetLayer(4, reNet_hidden_size,\n",
        "            use_dropout=True, dropout_rate=0.1))\n",
        "    model.add(ModifiedReNetLayer(4, reNet_hidden_size,\n",
        "            use_dropout=True, dropout_rate=0.1))\n",
        "    model.add(ModifiedReNetLayer(4, reNet_hidden_size,\n",
        "            use_dropout=True, dropout_rate=0.1))\n",
        "    \n",
        "\n",
        "    model.add(Flatten())\n",
        "    fully_conn_hidden_size = 4096\n",
        "    model.add(Dense(fully_conn_hidden_size, activation='relu', activity_regularizer=dense_reg))\n",
        "    model.add(Dropout(0.1))\n",
        "\n",
        "    model.add(Dense(num_classes, activation='softmax', kernel_regularizer=softmax_reg))\n",
        "\n",
        "    model.compile(loss='categorical_crossentropy',\n",
        "            optimizer=Adam(lr=lr),\n",
        "            metrics=['categorical_accuracy']\n",
        "        )\n",
        "    \n",
        "    return model\n",
        "\n",
        "def get_conv(lr=0.001, dense_reg=l1(0.00000001), softmax_reg=l2(0.00000001), conv_reg=l2(0.00000001)):\n",
        "    model = Sequential()\n",
        "    model.add(Conv2D(32, kernel_size=(4, 4), strides=(1,1), padding='same', activation='relu', kernel_regularizer=conv_reg))\n",
        "    model.add(BatchNormalization())\n",
        "    model.add(Conv2D(32, kernel_size=(4, 4), strides=(1,1), padding='same', activation='relu', kernel_regularizer=conv_reg))\n",
        "    model.add(MaxPooling2D(pool_size=(2, 2)))\n",
        "    model.add(BatchNormalization())\n",
        "    #model.add(Dropout(0.25))\n",
        "\n",
        "    model.add(Conv2D(64, kernel_size=(2, 2), strides=(1,1), padding='same', activation='relu', kernel_regularizer=conv_reg))\n",
        "    model.add(BatchNormalization())\n",
        "    model.add(Conv2D(64, kernel_size=(2, 2), strides=(1,1), padding='same', activation='relu', kernel_regularizer=conv_reg))\n",
        "    model.add(MaxPooling2D(pool_size=(2, 2)))\n",
        "    model.add(BatchNormalization())\n",
        "    #model.add(Dropout(0.25))\n",
        "\n",
        "    model.add(Conv2D(128, kernel_size=(2, 2), strides=(1,1), padding='same', activation='relu', kernel_regularizer=conv_reg))\n",
        "    model.add(MaxPooling2D(pool_size=(2, 2)))\n",
        "    model.add(BatchNormalization())\n",
        "    #model.add(Dropout(0.25))\n",
        "\n",
        "    model.add(Flatten())\n",
        "    model.add(Dense(1024, activation='relu', activity_regularizer=dense_reg))\n",
        "    model.add(Dropout(0.7))\n",
        "\n",
        "    model.add(Dense(num_classes, activation='softmax', kernel_regularizer=softmax_reg))\n",
        "\n",
        "    model.compile(loss='categorical_crossentropy',\n",
        "            optimizer=Adam(lr=lr),\n",
        "            metrics=['categorical_accuracy']\n",
        "        )\n",
        "    \n",
        "    return model"
      ],
      "execution_count": 0,
      "outputs": []
    },
    {
      "cell_type": "code",
      "metadata": {
        "id": "cyRGj9EXcU5w",
        "colab_type": "code",
        "colab": {}
      },
      "source": [
        "model = get_reNet(lr=0.001, dense_reg=None, softmax_reg=None)"
      ],
      "execution_count": 0,
      "outputs": []
    },
    {
      "cell_type": "code",
      "metadata": {
        "id": "I9SSmqn-fAE1",
        "colab_type": "code",
        "colab": {}
      },
      "source": [
        "model = get_modif_reNet(lr=0.001, dense_reg=None, softmax_reg=None)"
      ],
      "execution_count": 0,
      "outputs": []
    },
    {
      "cell_type": "code",
      "metadata": {
        "id": "Ip3Lc0e3fArW",
        "colab_type": "code",
        "outputId": "ae4f5026-97b9-441c-e07e-41ba8d7c4f1d",
        "colab": {
          "base_uri": "https://localhost:8080/",
          "height": 66
        }
      },
      "source": [
        "model = get_conv(lr=0.001, dense_reg=l1(0.00000001), softmax_reg=l2(0.00000001), conv_reg=l2(0.00000001))"
      ],
      "execution_count": 0,
      "outputs": [
        {
          "output_type": "stream",
          "text": [
            "WARNING:tensorflow:From /usr/local/lib/python3.6/dist-packages/tensorflow/python/framework/op_def_library.py:263: colocate_with (from tensorflow.python.framework.ops) is deprecated and will be removed in a future version.\n",
            "Instructions for updating:\n",
            "Colocations handled automatically by placer.\n"
          ],
          "name": "stdout"
        }
      ]
    },
    {
      "cell_type": "code",
      "metadata": {
        "id": "m-HmrzHk8RE8",
        "colab_type": "code",
        "outputId": "6d42dbd3-1870-42f6-baa5-ff0c6105bfc9",
        "colab": {
          "base_uri": "https://localhost:8080/",
          "height": 833
        }
      },
      "source": [
        "x_train_single_ex = x_train_data[0:1]\n",
        "y_train_single_ex = y_train_data[0:1]\n",
        "model.fit(x_train_single_ex, y_train_single_ex, epochs=1)\n",
        "model.summary()"
      ],
      "execution_count": 0,
      "outputs": [
        {
          "output_type": "stream",
          "text": [
            "WARNING:tensorflow:From /usr/local/lib/python3.6/dist-packages/keras/backend/tensorflow_backend.py:3445: calling dropout (from tensorflow.python.ops.nn_ops) with keep_prob is deprecated and will be removed in a future version.\n",
            "Instructions for updating:\n",
            "Please use `rate` instead of `keep_prob`. Rate should be set to `rate = 1 - keep_prob`.\n",
            "WARNING:tensorflow:From /usr/local/lib/python3.6/dist-packages/tensorflow/python/ops/math_ops.py:3066: to_int32 (from tensorflow.python.ops.math_ops) is deprecated and will be removed in a future version.\n",
            "Instructions for updating:\n",
            "Use tf.cast instead.\n",
            "Epoch 1/1\n",
            "1/1 [==============================] - 2s 2s/step - loss: 2.0382 - categorical_accuracy: 0.0000e+00\n",
            "_________________________________________________________________\n",
            "Layer (type)                 Output Shape              Param #   \n",
            "=================================================================\n",
            "conv2d_1 (Conv2D)            (None, 32, 32, 32)        544       \n",
            "_________________________________________________________________\n",
            "batch_normalization_1 (Batch (None, 32, 32, 32)        128       \n",
            "_________________________________________________________________\n",
            "conv2d_2 (Conv2D)            (None, 32, 32, 32)        16416     \n",
            "_________________________________________________________________\n",
            "max_pooling2d_1 (MaxPooling2 (None, 16, 16, 32)        0         \n",
            "_________________________________________________________________\n",
            "batch_normalization_2 (Batch (None, 16, 16, 32)        128       \n",
            "_________________________________________________________________\n",
            "conv2d_3 (Conv2D)            (None, 16, 16, 64)        8256      \n",
            "_________________________________________________________________\n",
            "batch_normalization_3 (Batch (None, 16, 16, 64)        256       \n",
            "_________________________________________________________________\n",
            "conv2d_4 (Conv2D)            (None, 16, 16, 64)        16448     \n",
            "_________________________________________________________________\n",
            "max_pooling2d_2 (MaxPooling2 (None, 8, 8, 64)          0         \n",
            "_________________________________________________________________\n",
            "batch_normalization_4 (Batch (None, 8, 8, 64)          256       \n",
            "_________________________________________________________________\n",
            "conv2d_5 (Conv2D)            (None, 8, 8, 128)         32896     \n",
            "_________________________________________________________________\n",
            "max_pooling2d_3 (MaxPooling2 (None, 4, 4, 128)         0         \n",
            "_________________________________________________________________\n",
            "batch_normalization_5 (Batch (None, 4, 4, 128)         512       \n",
            "_________________________________________________________________\n",
            "flatten_1 (Flatten)          (None, 2048)              0         \n",
            "_________________________________________________________________\n",
            "dense_1 (Dense)              (None, 1024)              2098176   \n",
            "_________________________________________________________________\n",
            "dropout_1 (Dropout)          (None, 1024)              0         \n",
            "_________________________________________________________________\n",
            "dense_2 (Dense)              (None, 10)                10250     \n",
            "=================================================================\n",
            "Total params: 2,184,266\n",
            "Trainable params: 2,183,626\n",
            "Non-trainable params: 640\n",
            "_________________________________________________________________\n"
          ],
          "name": "stdout"
        }
      ]
    },
    {
      "cell_type": "markdown",
      "metadata": {
        "id": "hEyvcVBgTXa8",
        "colab_type": "text"
      },
      "source": [
        "results so far for conv:\n",
        "conv nets:\n",
        "base confing\n",
        "loss: 0.2939 - categorical_accuracy: 0.8936 - val_loss: 0.2514 - val_categorical_accuracy: 0.9087\n",
        "\n",
        "batch norm added\n",
        "test loss 0.2574437574401498\n",
        "test acc:  0.9289\n",
        "\n",
        "\n",
        "additional layers added\n",
        "test loss 0.253200468877703\n",
        "test acc:  0.9311\n",
        "\n",
        "more neurons in last layers\n",
        "test loss 0.2567021854201332\n",
        "test acc:  0.9315\n",
        "\n",
        "dropout=0.7 in last layer\n",
        "test loss 0.23952612873092294\n",
        "test acc:  0.9324\n",
        "\n",
        "same as prev but with regularization: get_conv(lr=0.001, dense_reg=l1(0.00000001), softmax_reg=l2(0.00000001), conv_reg=l2(0.00000001))\n"
      ]
    },
    {
      "cell_type": "code",
      "metadata": {
        "id": "_Lkt01ZZ8eJV",
        "colab_type": "code",
        "outputId": "282c89f4-583a-434d-e753-8cc485ca1fea",
        "colab": {
          "base_uri": "https://localhost:8080/",
          "height": 800
        }
      },
      "source": [
        "datagen = ImageDataGenerator(width_shift_range=[-2.0, 0.0, 2.0])\n",
        "datagen.fit(x_train_data)\n",
        "\n",
        "batch_size = 32\n",
        "history = model.fit_generator(datagen.flow(x_train_data, y_train_data, \n",
        "        batch_size=batch_size),\n",
        "        epochs=20,\n",
        "        steps_per_epoch=np.ceil(x_train.shape[0] / batch_size),\n",
        "        validation_data=(x_test_data, y_test_data),\n",
        "        callbacks=[EarlyStopping(monitor='val_loss', patience=20, verbose=1),\n",
        "                   ReduceLROnPlateau(monitor='val_loss', patience=5, verbose=1)\n",
        "            ]\n",
        "    )\n",
        "loss, acc = tuple(model.evaluate(x_test_data, y_test_data, batch_size=batch_size))\n",
        "print(\"test loss\", loss)\n",
        "print(\"test acc: \", acc)"
      ],
      "execution_count": 0,
      "outputs": [
        {
          "output_type": "stream",
          "text": [
            "Epoch 1/20\n",
            "1875/1875 [==============================] - 686s 366ms/step - loss: 0.6349 - categorical_accuracy: 0.7955 - val_loss: 0.3824 - val_categorical_accuracy: 0.8654\n",
            "Epoch 2/20\n",
            "1875/1875 [==============================] - 704s 375ms/step - loss: 0.4212 - categorical_accuracy: 0.8549 - val_loss: 0.3439 - val_categorical_accuracy: 0.8814\n",
            "Epoch 3/20\n",
            "1875/1875 [==============================] - 697s 372ms/step - loss: 0.3624 - categorical_accuracy: 0.8745 - val_loss: 0.2703 - val_categorical_accuracy: 0.8998\n",
            "Epoch 4/20\n",
            "1875/1875 [==============================] - 691s 368ms/step - loss: 0.3135 - categorical_accuracy: 0.8900 - val_loss: 0.2770 - val_categorical_accuracy: 0.8996\n",
            "Epoch 5/20\n",
            "1875/1875 [==============================] - 688s 367ms/step - loss: 0.2815 - categorical_accuracy: 0.8999 - val_loss: 0.2564 - val_categorical_accuracy: 0.9086\n",
            "Epoch 6/20\n",
            "1875/1875 [==============================] - 688s 367ms/step - loss: 0.2563 - categorical_accuracy: 0.9068 - val_loss: 0.2507 - val_categorical_accuracy: 0.9112\n",
            "Epoch 7/20\n",
            "1875/1875 [==============================] - 691s 369ms/step - loss: 0.2366 - categorical_accuracy: 0.9147 - val_loss: 0.2394 - val_categorical_accuracy: 0.9116\n",
            "Epoch 8/20\n",
            "1875/1875 [==============================] - 703s 375ms/step - loss: 0.2169 - categorical_accuracy: 0.9228 - val_loss: 0.2328 - val_categorical_accuracy: 0.9202\n",
            "Epoch 9/20\n",
            "1875/1875 [==============================] - 695s 370ms/step - loss: 0.2019 - categorical_accuracy: 0.9271 - val_loss: 0.2239 - val_categorical_accuracy: 0.9214\n",
            "Epoch 10/20\n",
            "1875/1875 [==============================] - 691s 369ms/step - loss: 0.1921 - categorical_accuracy: 0.9296 - val_loss: 0.2525 - val_categorical_accuracy: 0.9129\n",
            "Epoch 11/20\n",
            "1875/1875 [==============================] - 697s 372ms/step - loss: 0.1818 - categorical_accuracy: 0.9345 - val_loss: 0.2319 - val_categorical_accuracy: 0.9189\n",
            "Epoch 12/20\n",
            "1875/1875 [==============================] - 691s 369ms/step - loss: 0.1705 - categorical_accuracy: 0.9374 - val_loss: 0.2368 - val_categorical_accuracy: 0.9223\n",
            "Epoch 13/20\n",
            "1875/1875 [==============================] - 694s 370ms/step - loss: 0.1643 - categorical_accuracy: 0.9393 - val_loss: 0.2329 - val_categorical_accuracy: 0.9212\n",
            "Epoch 14/20\n",
            "1875/1875 [==============================] - 696s 371ms/step - loss: 0.1563 - categorical_accuracy: 0.9430 - val_loss: 0.2294 - val_categorical_accuracy: 0.9242\n",
            "\n",
            "Epoch 00014: ReduceLROnPlateau reducing learning rate to 0.00010000000474974513.\n",
            "Epoch 15/20\n",
            "1875/1875 [==============================] - 703s 375ms/step - loss: 0.1169 - categorical_accuracy: 0.9577 - val_loss: 0.2175 - val_categorical_accuracy: 0.9297\n",
            "Epoch 16/20\n",
            "1875/1875 [==============================] - 708s 378ms/step - loss: 0.1003 - categorical_accuracy: 0.9635 - val_loss: 0.2226 - val_categorical_accuracy: 0.9311\n",
            "Epoch 17/20\n",
            "1875/1875 [==============================] - 702s 374ms/step - loss: 0.0906 - categorical_accuracy: 0.9670 - val_loss: 0.2261 - val_categorical_accuracy: 0.9318\n",
            "Epoch 18/20\n",
            "1875/1875 [==============================] - 708s 377ms/step - loss: 0.0853 - categorical_accuracy: 0.9686 - val_loss: 0.2301 - val_categorical_accuracy: 0.9312\n",
            "Epoch 19/20\n",
            "1875/1875 [==============================] - 718s 383ms/step - loss: 0.0792 - categorical_accuracy: 0.9705 - val_loss: 0.2344 - val_categorical_accuracy: 0.9315\n",
            "Epoch 20/20\n",
            "1875/1875 [==============================] - 712s 380ms/step - loss: 0.0768 - categorical_accuracy: 0.9717 - val_loss: 0.2324 - val_categorical_accuracy: 0.9311\n",
            "\n",
            "Epoch 00020: ReduceLROnPlateau reducing learning rate to 1.0000000474974514e-05.\n",
            "10000/10000 [==============================] - 28s 3ms/step\n",
            "test loss 0.23239341986328363\n",
            "test acc:  0.9311\n"
          ],
          "name": "stdout"
        }
      ]
    },
    {
      "cell_type": "code",
      "metadata": {
        "id": "eFXpsHP3N73Z",
        "colab_type": "code",
        "outputId": "2162e201-959c-47bd-f147-8c264e3a3853",
        "colab": {
          "base_uri": "https://localhost:8080/",
          "height": 2315
        }
      },
      "source": [
        "x_train_single_ex = x_train_data[0:1]\n",
        "y_train_single_ex = y_train_data[0:1]\n",
        "\n",
        "for reg in [0.0000001, 0.00000001]:\n",
        "    model = get_modif_reNet(lr=0.001, dense_reg=l1(reg), softmax_reg=l2(reg))\n",
        "    \n",
        "    model.fit(x_train_single_ex, y_train_single_ex, epochs=1)\n",
        "    model.summary()\n",
        "    \n",
        "    datagen = ImageDataGenerator(width_shift_range=[-2.0, 0.0, 2.0])\n",
        "    datagen.fit(x_train_data)\n",
        "    batch_size = 32\n",
        "    history = model.fit_generator(datagen.flow(x_train_data, y_train_data, \n",
        "        batch_size=batch_size),\n",
        "        epochs=20,\n",
        "        steps_per_epoch=np.ceil(x_train.shape[0] / batch_size),\n",
        "        validation_data=(x_test_data, y_test_data),\n",
        "        callbacks=[EarlyStopping(monitor='val_loss', patience=20, verbose=1),\n",
        "                   ReduceLROnPlateau(monitor='val_loss', patience=5, verbose=1)])\n",
        "    loss, acc = tuple(model.evaluate(x_test_data, y_test_data, batch_size=batch_size))\n",
        "    print(\"reg = \", reg)\n",
        "    print(\"test loss\", loss)\n",
        "    print(\"test acc: \", acc)"
      ],
      "execution_count": 0,
      "outputs": [
        {
          "output_type": "stream",
          "text": [
            "WARNING:tensorflow:From /usr/local/lib/python3.6/dist-packages/tensorflow/python/framework/op_def_library.py:263: colocate_with (from tensorflow.python.framework.ops) is deprecated and will be removed in a future version.\n",
            "Instructions for updating:\n",
            "Colocations handled automatically by placer.\n",
            "WARNING:tensorflow:From /usr/local/lib/python3.6/dist-packages/keras/backend/tensorflow_backend.py:3445: calling dropout (from tensorflow.python.ops.nn_ops) with keep_prob is deprecated and will be removed in a future version.\n",
            "Instructions for updating:\n",
            "Please use `rate` instead of `keep_prob`. Rate should be set to `rate = 1 - keep_prob`.\n",
            "WARNING:tensorflow:From /usr/local/lib/python3.6/dist-packages/tensorflow/python/ops/math_ops.py:3066: to_int32 (from tensorflow.python.ops.math_ops) is deprecated and will be removed in a future version.\n",
            "Instructions for updating:\n",
            "Use tf.cast instead.\n",
            "Epoch 1/1\n",
            "1/1 [==============================] - 9s 9s/step - loss: 2.3040 - categorical_accuracy: 0.0000e+00\n",
            "_________________________________________________________________\n",
            "Layer (type)                 Output Shape              Param #   \n",
            "=================================================================\n",
            "hilbert_layer_1 (HilbertLaye (None, 1024, 1)           0         \n",
            "_________________________________________________________________\n",
            "modified_re_net_layer_1 (Mod (None, 256, 512)          0         \n",
            "_________________________________________________________________\n",
            "modified_re_net_layer_2 (Mod (None, 64, 512)           0         \n",
            "_________________________________________________________________\n",
            "modified_re_net_layer_3 (Mod (None, 16, 512)           0         \n",
            "_________________________________________________________________\n",
            "modified_re_net_layer_4 (Mod (None, 4, 512)            0         \n",
            "_________________________________________________________________\n",
            "modified_re_net_layer_5 (Mod (None, 1, 512)            0         \n",
            "_________________________________________________________________\n",
            "flatten_1 (Flatten)          (None, 512)               0         \n",
            "_________________________________________________________________\n",
            "dense_1 (Dense)              (None, 4096)              2101248   \n",
            "_________________________________________________________________\n",
            "dropout_11 (Dropout)         (None, 4096)              0         \n",
            "_________________________________________________________________\n",
            "dense_2 (Dense)              (None, 10)                40970     \n",
            "=================================================================\n",
            "Total params: 2,142,218\n",
            "Trainable params: 2,142,218\n",
            "Non-trainable params: 0\n",
            "_________________________________________________________________\n",
            "Epoch 1/20\n",
            "1875/1875 [==============================] - 881s 470ms/step - loss: 1.0921 - categorical_accuracy: 0.5977 - val_loss: 0.8801 - val_categorical_accuracy: 0.6525\n",
            "Epoch 2/20\n",
            "1875/1875 [==============================] - 888s 473ms/step - loss: 0.9150 - categorical_accuracy: 0.6575 - val_loss: 0.8103 - val_categorical_accuracy: 0.7120\n",
            "Epoch 3/20\n",
            "1875/1875 [==============================] - 875s 466ms/step - loss: 0.8830 - categorical_accuracy: 0.6702 - val_loss: 0.7725 - val_categorical_accuracy: 0.7141\n",
            "Epoch 4/20\n",
            "1875/1875 [==============================] - 865s 461ms/step - loss: 0.8631 - categorical_accuracy: 0.6738 - val_loss: 0.7664 - val_categorical_accuracy: 0.7122\n",
            "Epoch 5/20\n",
            "1875/1875 [==============================] - 863s 460ms/step - loss: 0.8484 - categorical_accuracy: 0.6805 - val_loss: 0.7505 - val_categorical_accuracy: 0.7218\n",
            "Epoch 6/20\n",
            "1875/1875 [==============================] - 887s 473ms/step - loss: 0.8383 - categorical_accuracy: 0.6846 - val_loss: 0.7547 - val_categorical_accuracy: 0.7117\n",
            "Epoch 7/20\n",
            "1875/1875 [==============================] - 895s 477ms/step - loss: 0.8293 - categorical_accuracy: 0.6872 - val_loss: 0.7527 - val_categorical_accuracy: 0.7207\n",
            "Epoch 8/20\n",
            "1875/1875 [==============================] - 875s 467ms/step - loss: 0.8190 - categorical_accuracy: 0.6903 - val_loss: 0.7177 - val_categorical_accuracy: 0.7332\n",
            "Epoch 9/20\n",
            "1875/1875 [==============================] - 867s 463ms/step - loss: 0.8139 - categorical_accuracy: 0.6916 - val_loss: 0.7086 - val_categorical_accuracy: 0.7434\n",
            "Epoch 10/20\n",
            "1875/1875 [==============================] - 868s 463ms/step - loss: 0.8090 - categorical_accuracy: 0.6944 - val_loss: 0.7043 - val_categorical_accuracy: 0.7328\n",
            "Epoch 11/20\n",
            "1875/1875 [==============================] - 862s 459ms/step - loss: 0.8004 - categorical_accuracy: 0.6982 - val_loss: 0.7165 - val_categorical_accuracy: 0.7225\n",
            "Epoch 12/20\n",
            "1875/1875 [==============================] - 885s 472ms/step - loss: 0.7953 - categorical_accuracy: 0.6985 - val_loss: 0.7060 - val_categorical_accuracy: 0.7327\n",
            "Epoch 13/20\n",
            "1875/1875 [==============================] - 870s 464ms/step - loss: 0.7956 - categorical_accuracy: 0.6983 - val_loss: 0.6977 - val_categorical_accuracy: 0.7346\n",
            "Epoch 14/20\n",
            "1875/1875 [==============================] - 863s 460ms/step - loss: 0.7883 - categorical_accuracy: 0.7017 - val_loss: 0.6958 - val_categorical_accuracy: 0.7380\n",
            "Epoch 15/20\n",
            "1875/1875 [==============================] - 869s 464ms/step - loss: 0.7867 - categorical_accuracy: 0.7047 - val_loss: 0.6810 - val_categorical_accuracy: 0.7428\n",
            "Epoch 16/20\n",
            "1875/1875 [==============================] - 869s 463ms/step - loss: 0.7857 - categorical_accuracy: 0.7032 - val_loss: 0.6923 - val_categorical_accuracy: 0.7400\n",
            "Epoch 17/20\n",
            "1875/1875 [==============================] - 872s 465ms/step - loss: 0.7773 - categorical_accuracy: 0.7073 - val_loss: 0.6776 - val_categorical_accuracy: 0.7460\n",
            "Epoch 18/20\n",
            "1875/1875 [==============================] - 865s 461ms/step - loss: 0.7747 - categorical_accuracy: 0.7085 - val_loss: 0.6802 - val_categorical_accuracy: 0.7431\n",
            "Epoch 19/20\n",
            "1875/1875 [==============================] - 863s 460ms/step - loss: 0.7743 - categorical_accuracy: 0.7070 - val_loss: 0.6862 - val_categorical_accuracy: 0.7347\n",
            "Epoch 20/20\n",
            "1875/1875 [==============================] - 870s 464ms/step - loss: 0.7725 - categorical_accuracy: 0.7064 - val_loss: 0.6937 - val_categorical_accuracy: 0.7313\n",
            "10000/10000 [==============================] - 120s 12ms/step\n",
            "reg =  1e-07\n",
            "test loss 0.6937373944282532\n",
            "test acc:  0.7313\n",
            "Epoch 1/1\n",
            "1/1 [==============================] - 8s 8s/step - loss: 2.3022 - categorical_accuracy: 0.0000e+00\n",
            "_________________________________________________________________\n",
            "Layer (type)                 Output Shape              Param #   \n",
            "=================================================================\n",
            "hilbert_layer_2 (HilbertLaye (None, 1024, 1)           0         \n",
            "_________________________________________________________________\n",
            "modified_re_net_layer_6 (Mod (None, 256, 512)          0         \n",
            "_________________________________________________________________\n",
            "modified_re_net_layer_7 (Mod (None, 64, 512)           0         \n",
            "_________________________________________________________________\n",
            "modified_re_net_layer_8 (Mod (None, 16, 512)           0         \n",
            "_________________________________________________________________\n",
            "modified_re_net_layer_9 (Mod (None, 4, 512)            0         \n",
            "_________________________________________________________________\n",
            "modified_re_net_layer_10 (Mo (None, 1, 512)            0         \n",
            "_________________________________________________________________\n",
            "flatten_2 (Flatten)          (None, 512)               0         \n",
            "_________________________________________________________________\n",
            "dense_3 (Dense)              (None, 4096)              2101248   \n",
            "_________________________________________________________________\n",
            "dropout_22 (Dropout)         (None, 4096)              0         \n",
            "_________________________________________________________________\n",
            "dense_4 (Dense)              (None, 10)                40970     \n",
            "=================================================================\n",
            "Total params: 2,142,218\n",
            "Trainable params: 2,142,218\n",
            "Non-trainable params: 0\n",
            "_________________________________________________________________\n",
            "Epoch 1/20\n",
            "1874/1875 [============================>.] - ETA: 0s - loss: 1.0677 - categorical_accuracy: 0.6071"
          ],
          "name": "stdout"
        },
        {
          "output_type": "error",
          "ename": "KeyboardInterrupt",
          "evalue": "ignored",
          "traceback": [
            "\u001b[0;31m---------------------------------------------------------------------------\u001b[0m",
            "\u001b[0;31mKeyboardInterrupt\u001b[0m                         Traceback (most recent call last)",
            "\u001b[0;32m<ipython-input-9-3fc8beb13aef>\u001b[0m in \u001b[0;36m<module>\u001b[0;34m()\u001b[0m\n\u001b[1;32m     17\u001b[0m         \u001b[0mvalidation_data\u001b[0m\u001b[0;34m=\u001b[0m\u001b[0;34m(\u001b[0m\u001b[0mx_test_data\u001b[0m\u001b[0;34m,\u001b[0m \u001b[0my_test_data\u001b[0m\u001b[0;34m)\u001b[0m\u001b[0;34m,\u001b[0m\u001b[0;34m\u001b[0m\u001b[0;34m\u001b[0m\u001b[0m\n\u001b[1;32m     18\u001b[0m         callbacks=[EarlyStopping(monitor='val_loss', patience=20, verbose=1),\n\u001b[0;32m---> 19\u001b[0;31m                    ReduceLROnPlateau(monitor='val_loss', patience=5, verbose=1)])\n\u001b[0m\u001b[1;32m     20\u001b[0m     \u001b[0mloss\u001b[0m\u001b[0;34m,\u001b[0m \u001b[0macc\u001b[0m \u001b[0;34m=\u001b[0m \u001b[0mtuple\u001b[0m\u001b[0;34m(\u001b[0m\u001b[0mmodel\u001b[0m\u001b[0;34m.\u001b[0m\u001b[0mevaluate\u001b[0m\u001b[0;34m(\u001b[0m\u001b[0mx_test_data\u001b[0m\u001b[0;34m,\u001b[0m \u001b[0my_test_data\u001b[0m\u001b[0;34m,\u001b[0m \u001b[0mbatch_size\u001b[0m\u001b[0;34m=\u001b[0m\u001b[0mbatch_size\u001b[0m\u001b[0;34m)\u001b[0m\u001b[0;34m)\u001b[0m\u001b[0;34m\u001b[0m\u001b[0;34m\u001b[0m\u001b[0m\n\u001b[1;32m     21\u001b[0m     \u001b[0mprint\u001b[0m\u001b[0;34m(\u001b[0m\u001b[0;34m\"reg = \"\u001b[0m\u001b[0;34m,\u001b[0m \u001b[0mreg\u001b[0m\u001b[0;34m)\u001b[0m\u001b[0;34m\u001b[0m\u001b[0;34m\u001b[0m\u001b[0m\n",
            "\u001b[0;32m/usr/local/lib/python3.6/dist-packages/keras/legacy/interfaces.py\u001b[0m in \u001b[0;36mwrapper\u001b[0;34m(*args, **kwargs)\u001b[0m\n\u001b[1;32m     89\u001b[0m                 warnings.warn('Update your `' + object_name + '` call to the ' +\n\u001b[1;32m     90\u001b[0m                               'Keras 2 API: ' + signature, stacklevel=2)\n\u001b[0;32m---> 91\u001b[0;31m             \u001b[0;32mreturn\u001b[0m \u001b[0mfunc\u001b[0m\u001b[0;34m(\u001b[0m\u001b[0;34m*\u001b[0m\u001b[0margs\u001b[0m\u001b[0;34m,\u001b[0m \u001b[0;34m**\u001b[0m\u001b[0mkwargs\u001b[0m\u001b[0;34m)\u001b[0m\u001b[0;34m\u001b[0m\u001b[0;34m\u001b[0m\u001b[0m\n\u001b[0m\u001b[1;32m     92\u001b[0m         \u001b[0mwrapper\u001b[0m\u001b[0;34m.\u001b[0m\u001b[0m_original_function\u001b[0m \u001b[0;34m=\u001b[0m \u001b[0mfunc\u001b[0m\u001b[0;34m\u001b[0m\u001b[0;34m\u001b[0m\u001b[0m\n\u001b[1;32m     93\u001b[0m         \u001b[0;32mreturn\u001b[0m \u001b[0mwrapper\u001b[0m\u001b[0;34m\u001b[0m\u001b[0;34m\u001b[0m\u001b[0m\n",
            "\u001b[0;32m/usr/local/lib/python3.6/dist-packages/keras/engine/training.py\u001b[0m in \u001b[0;36mfit_generator\u001b[0;34m(self, generator, steps_per_epoch, epochs, verbose, callbacks, validation_data, validation_steps, class_weight, max_queue_size, workers, use_multiprocessing, shuffle, initial_epoch)\u001b[0m\n\u001b[1;32m   1416\u001b[0m             \u001b[0muse_multiprocessing\u001b[0m\u001b[0;34m=\u001b[0m\u001b[0muse_multiprocessing\u001b[0m\u001b[0;34m,\u001b[0m\u001b[0;34m\u001b[0m\u001b[0;34m\u001b[0m\u001b[0m\n\u001b[1;32m   1417\u001b[0m             \u001b[0mshuffle\u001b[0m\u001b[0;34m=\u001b[0m\u001b[0mshuffle\u001b[0m\u001b[0;34m,\u001b[0m\u001b[0;34m\u001b[0m\u001b[0;34m\u001b[0m\u001b[0m\n\u001b[0;32m-> 1418\u001b[0;31m             initial_epoch=initial_epoch)\n\u001b[0m\u001b[1;32m   1419\u001b[0m \u001b[0;34m\u001b[0m\u001b[0m\n\u001b[1;32m   1420\u001b[0m     \u001b[0;34m@\u001b[0m\u001b[0minterfaces\u001b[0m\u001b[0;34m.\u001b[0m\u001b[0mlegacy_generator_methods_support\u001b[0m\u001b[0;34m\u001b[0m\u001b[0;34m\u001b[0m\u001b[0m\n",
            "\u001b[0;32m/usr/local/lib/python3.6/dist-packages/keras/engine/training_generator.py\u001b[0m in \u001b[0;36mfit_generator\u001b[0;34m(model, generator, steps_per_epoch, epochs, verbose, callbacks, validation_data, validation_steps, class_weight, max_queue_size, workers, use_multiprocessing, shuffle, initial_epoch)\u001b[0m\n\u001b[1;32m    240\u001b[0m                             \u001b[0mbatch_size\u001b[0m\u001b[0;34m=\u001b[0m\u001b[0mbatch_size\u001b[0m\u001b[0;34m,\u001b[0m\u001b[0;34m\u001b[0m\u001b[0;34m\u001b[0m\u001b[0m\n\u001b[1;32m    241\u001b[0m                             \u001b[0msample_weight\u001b[0m\u001b[0;34m=\u001b[0m\u001b[0mval_sample_weights\u001b[0m\u001b[0;34m,\u001b[0m\u001b[0;34m\u001b[0m\u001b[0;34m\u001b[0m\u001b[0m\n\u001b[0;32m--> 242\u001b[0;31m                             verbose=0)\n\u001b[0m\u001b[1;32m    243\u001b[0m                     \u001b[0mval_outs\u001b[0m \u001b[0;34m=\u001b[0m \u001b[0mto_list\u001b[0m\u001b[0;34m(\u001b[0m\u001b[0mval_outs\u001b[0m\u001b[0;34m)\u001b[0m\u001b[0;34m\u001b[0m\u001b[0;34m\u001b[0m\u001b[0m\n\u001b[1;32m    244\u001b[0m                     \u001b[0;31m# Same labels assumed.\u001b[0m\u001b[0;34m\u001b[0m\u001b[0;34m\u001b[0m\u001b[0;34m\u001b[0m\u001b[0m\n",
            "\u001b[0;32m/usr/local/lib/python3.6/dist-packages/keras/engine/training.py\u001b[0m in \u001b[0;36mevaluate\u001b[0;34m(self, x, y, batch_size, verbose, sample_weight, steps)\u001b[0m\n\u001b[1;32m   1111\u001b[0m                                          \u001b[0mbatch_size\u001b[0m\u001b[0;34m=\u001b[0m\u001b[0mbatch_size\u001b[0m\u001b[0;34m,\u001b[0m\u001b[0;34m\u001b[0m\u001b[0;34m\u001b[0m\u001b[0m\n\u001b[1;32m   1112\u001b[0m                                          \u001b[0mverbose\u001b[0m\u001b[0;34m=\u001b[0m\u001b[0mverbose\u001b[0m\u001b[0;34m,\u001b[0m\u001b[0;34m\u001b[0m\u001b[0;34m\u001b[0m\u001b[0m\n\u001b[0;32m-> 1113\u001b[0;31m                                          steps=steps)\n\u001b[0m\u001b[1;32m   1114\u001b[0m \u001b[0;34m\u001b[0m\u001b[0m\n\u001b[1;32m   1115\u001b[0m     def predict(self, x,\n",
            "\u001b[0;32m/usr/local/lib/python3.6/dist-packages/keras/engine/training_arrays.py\u001b[0m in \u001b[0;36mtest_loop\u001b[0;34m(model, f, ins, batch_size, verbose, steps)\u001b[0m\n\u001b[1;32m    390\u001b[0m                 \u001b[0mins_batch\u001b[0m\u001b[0;34m[\u001b[0m\u001b[0mi\u001b[0m\u001b[0;34m]\u001b[0m \u001b[0;34m=\u001b[0m \u001b[0mins_batch\u001b[0m\u001b[0;34m[\u001b[0m\u001b[0mi\u001b[0m\u001b[0;34m]\u001b[0m\u001b[0;34m.\u001b[0m\u001b[0mtoarray\u001b[0m\u001b[0;34m(\u001b[0m\u001b[0;34m)\u001b[0m\u001b[0;34m\u001b[0m\u001b[0;34m\u001b[0m\u001b[0m\n\u001b[1;32m    391\u001b[0m \u001b[0;34m\u001b[0m\u001b[0m\n\u001b[0;32m--> 392\u001b[0;31m             \u001b[0mbatch_outs\u001b[0m \u001b[0;34m=\u001b[0m \u001b[0mf\u001b[0m\u001b[0;34m(\u001b[0m\u001b[0mins_batch\u001b[0m\u001b[0;34m)\u001b[0m\u001b[0;34m\u001b[0m\u001b[0;34m\u001b[0m\u001b[0m\n\u001b[0m\u001b[1;32m    393\u001b[0m             \u001b[0;32mif\u001b[0m \u001b[0misinstance\u001b[0m\u001b[0;34m(\u001b[0m\u001b[0mbatch_outs\u001b[0m\u001b[0;34m,\u001b[0m \u001b[0mlist\u001b[0m\u001b[0;34m)\u001b[0m\u001b[0;34m:\u001b[0m\u001b[0;34m\u001b[0m\u001b[0;34m\u001b[0m\u001b[0m\n\u001b[1;32m    394\u001b[0m                 \u001b[0;32mif\u001b[0m \u001b[0mbatch_index\u001b[0m \u001b[0;34m==\u001b[0m \u001b[0;36m0\u001b[0m\u001b[0;34m:\u001b[0m\u001b[0;34m\u001b[0m\u001b[0;34m\u001b[0m\u001b[0m\n",
            "\u001b[0;32m/usr/local/lib/python3.6/dist-packages/keras/backend/tensorflow_backend.py\u001b[0m in \u001b[0;36m__call__\u001b[0;34m(self, inputs)\u001b[0m\n\u001b[1;32m   2713\u001b[0m                 \u001b[0;32mreturn\u001b[0m \u001b[0mself\u001b[0m\u001b[0;34m.\u001b[0m\u001b[0m_legacy_call\u001b[0m\u001b[0;34m(\u001b[0m\u001b[0minputs\u001b[0m\u001b[0;34m)\u001b[0m\u001b[0;34m\u001b[0m\u001b[0;34m\u001b[0m\u001b[0m\n\u001b[1;32m   2714\u001b[0m \u001b[0;34m\u001b[0m\u001b[0m\n\u001b[0;32m-> 2715\u001b[0;31m             \u001b[0;32mreturn\u001b[0m \u001b[0mself\u001b[0m\u001b[0;34m.\u001b[0m\u001b[0m_call\u001b[0m\u001b[0;34m(\u001b[0m\u001b[0minputs\u001b[0m\u001b[0;34m)\u001b[0m\u001b[0;34m\u001b[0m\u001b[0;34m\u001b[0m\u001b[0m\n\u001b[0m\u001b[1;32m   2716\u001b[0m         \u001b[0;32melse\u001b[0m\u001b[0;34m:\u001b[0m\u001b[0;34m\u001b[0m\u001b[0;34m\u001b[0m\u001b[0m\n\u001b[1;32m   2717\u001b[0m             \u001b[0;32mif\u001b[0m \u001b[0mpy_any\u001b[0m\u001b[0;34m(\u001b[0m\u001b[0mis_tensor\u001b[0m\u001b[0;34m(\u001b[0m\u001b[0mx\u001b[0m\u001b[0;34m)\u001b[0m \u001b[0;32mfor\u001b[0m \u001b[0mx\u001b[0m \u001b[0;32min\u001b[0m \u001b[0minputs\u001b[0m\u001b[0;34m)\u001b[0m\u001b[0;34m:\u001b[0m\u001b[0;34m\u001b[0m\u001b[0;34m\u001b[0m\u001b[0m\n",
            "\u001b[0;32m/usr/local/lib/python3.6/dist-packages/keras/backend/tensorflow_backend.py\u001b[0m in \u001b[0;36m_call\u001b[0;34m(self, inputs)\u001b[0m\n\u001b[1;32m   2669\u001b[0m                                 \u001b[0mfeed_symbols\u001b[0m\u001b[0;34m,\u001b[0m\u001b[0;34m\u001b[0m\u001b[0;34m\u001b[0m\u001b[0m\n\u001b[1;32m   2670\u001b[0m                                 \u001b[0msymbol_vals\u001b[0m\u001b[0;34m,\u001b[0m\u001b[0;34m\u001b[0m\u001b[0;34m\u001b[0m\u001b[0m\n\u001b[0;32m-> 2671\u001b[0;31m                                 session)\n\u001b[0m\u001b[1;32m   2672\u001b[0m         \u001b[0;32mif\u001b[0m \u001b[0mself\u001b[0m\u001b[0;34m.\u001b[0m\u001b[0mrun_metadata\u001b[0m\u001b[0;34m:\u001b[0m\u001b[0;34m\u001b[0m\u001b[0;34m\u001b[0m\u001b[0m\n\u001b[1;32m   2673\u001b[0m             \u001b[0mfetched\u001b[0m \u001b[0;34m=\u001b[0m \u001b[0mself\u001b[0m\u001b[0;34m.\u001b[0m\u001b[0m_callable_fn\u001b[0m\u001b[0;34m(\u001b[0m\u001b[0;34m*\u001b[0m\u001b[0marray_vals\u001b[0m\u001b[0;34m,\u001b[0m \u001b[0mrun_metadata\u001b[0m\u001b[0;34m=\u001b[0m\u001b[0mself\u001b[0m\u001b[0;34m.\u001b[0m\u001b[0mrun_metadata\u001b[0m\u001b[0;34m)\u001b[0m\u001b[0;34m\u001b[0m\u001b[0;34m\u001b[0m\u001b[0m\n",
            "\u001b[0;32m/usr/local/lib/python3.6/dist-packages/keras/backend/tensorflow_backend.py\u001b[0m in \u001b[0;36m_make_callable\u001b[0;34m(self, feed_arrays, feed_symbols, symbol_vals, session)\u001b[0m\n\u001b[1;32m   2621\u001b[0m             \u001b[0mcallable_opts\u001b[0m\u001b[0;34m.\u001b[0m\u001b[0mrun_options\u001b[0m\u001b[0;34m.\u001b[0m\u001b[0mCopyFrom\u001b[0m\u001b[0;34m(\u001b[0m\u001b[0mself\u001b[0m\u001b[0;34m.\u001b[0m\u001b[0mrun_options\u001b[0m\u001b[0;34m)\u001b[0m\u001b[0;34m\u001b[0m\u001b[0;34m\u001b[0m\u001b[0m\n\u001b[1;32m   2622\u001b[0m         \u001b[0;31m# Create callable.\u001b[0m\u001b[0;34m\u001b[0m\u001b[0;34m\u001b[0m\u001b[0;34m\u001b[0m\u001b[0m\n\u001b[0;32m-> 2623\u001b[0;31m         \u001b[0mcallable_fn\u001b[0m \u001b[0;34m=\u001b[0m \u001b[0msession\u001b[0m\u001b[0;34m.\u001b[0m\u001b[0m_make_callable_from_options\u001b[0m\u001b[0;34m(\u001b[0m\u001b[0mcallable_opts\u001b[0m\u001b[0;34m)\u001b[0m\u001b[0;34m\u001b[0m\u001b[0;34m\u001b[0m\u001b[0m\n\u001b[0m\u001b[1;32m   2624\u001b[0m         \u001b[0;31m# Cache parameters corresponding to the generated callable, so that\u001b[0m\u001b[0;34m\u001b[0m\u001b[0;34m\u001b[0m\u001b[0;34m\u001b[0m\u001b[0m\n\u001b[1;32m   2625\u001b[0m         \u001b[0;31m# we can detect future mismatches and refresh the callable.\u001b[0m\u001b[0;34m\u001b[0m\u001b[0;34m\u001b[0m\u001b[0;34m\u001b[0m\u001b[0m\n",
            "\u001b[0;32m/usr/local/lib/python3.6/dist-packages/tensorflow/python/client/session.py\u001b[0m in \u001b[0;36m_make_callable_from_options\u001b[0;34m(self, callable_options)\u001b[0m\n\u001b[1;32m   1469\u001b[0m     \"\"\"\n\u001b[1;32m   1470\u001b[0m     \u001b[0mself\u001b[0m\u001b[0;34m.\u001b[0m\u001b[0m_extend_graph\u001b[0m\u001b[0;34m(\u001b[0m\u001b[0;34m)\u001b[0m\u001b[0;34m\u001b[0m\u001b[0;34m\u001b[0m\u001b[0m\n\u001b[0;32m-> 1471\u001b[0;31m     \u001b[0;32mreturn\u001b[0m \u001b[0mBaseSession\u001b[0m\u001b[0;34m.\u001b[0m\u001b[0m_Callable\u001b[0m\u001b[0;34m(\u001b[0m\u001b[0mself\u001b[0m\u001b[0;34m,\u001b[0m \u001b[0mcallable_options\u001b[0m\u001b[0;34m)\u001b[0m\u001b[0;34m\u001b[0m\u001b[0;34m\u001b[0m\u001b[0m\n\u001b[0m\u001b[1;32m   1472\u001b[0m \u001b[0;34m\u001b[0m\u001b[0m\n\u001b[1;32m   1473\u001b[0m \u001b[0;34m\u001b[0m\u001b[0m\n",
            "\u001b[0;32m/usr/local/lib/python3.6/dist-packages/tensorflow/python/client/session.py\u001b[0m in \u001b[0;36m__init__\u001b[0;34m(self, session, callable_options)\u001b[0m\n\u001b[1;32m   1423\u001b[0m         \u001b[0;32mwith\u001b[0m \u001b[0merrors\u001b[0m\u001b[0;34m.\u001b[0m\u001b[0mraise_exception_on_not_ok_status\u001b[0m\u001b[0;34m(\u001b[0m\u001b[0;34m)\u001b[0m \u001b[0;32mas\u001b[0m \u001b[0mstatus\u001b[0m\u001b[0;34m:\u001b[0m\u001b[0;34m\u001b[0m\u001b[0;34m\u001b[0m\u001b[0m\n\u001b[1;32m   1424\u001b[0m           self._handle = tf_session.TF_SessionMakeCallable(\n\u001b[0;32m-> 1425\u001b[0;31m               session._session, options_ptr, status)\n\u001b[0m\u001b[1;32m   1426\u001b[0m       \u001b[0;32mfinally\u001b[0m\u001b[0;34m:\u001b[0m\u001b[0;34m\u001b[0m\u001b[0;34m\u001b[0m\u001b[0m\n\u001b[1;32m   1427\u001b[0m         \u001b[0mtf_session\u001b[0m\u001b[0;34m.\u001b[0m\u001b[0mTF_DeleteBuffer\u001b[0m\u001b[0;34m(\u001b[0m\u001b[0moptions_ptr\u001b[0m\u001b[0;34m)\u001b[0m\u001b[0;34m\u001b[0m\u001b[0;34m\u001b[0m\u001b[0m\n",
            "\u001b[0;31mKeyboardInterrupt\u001b[0m: "
          ]
        }
      ]
    },
    {
      "cell_type": "code",
      "metadata": {
        "id": "aynla9NN4Jea",
        "colab_type": "code",
        "colab": {}
      },
      "source": [
        "import matplotlib.pyplot as plt\n",
        "\n",
        "# summarize history for accuracy\n",
        "plt.plot(history.history['acc'])\n",
        "plt.plot(history.history['val_acc'])\n",
        "plt.title('model accuracy')\n",
        "plt.ylabel('accuracy')\n",
        "plt.xlabel('epoch')\n",
        "plt.legend(['train', 'test'], loc='upper left')\n",
        "plt.show()\n",
        "# summarize history for loss\n",
        "plt.plot(history.history['loss'])\n",
        "plt.plot(history.history['val_loss'])\n",
        "plt.title('model loss')\n",
        "plt.ylabel('loss')\n",
        "plt.xlabel('epoch')\n",
        "plt.legend(['train', 'test'], loc='upper left')\n",
        "plt.show()"
      ],
      "execution_count": 0,
      "outputs": []
    },
    {
      "cell_type": "code",
      "metadata": {
        "id": "N_W01jpXuHeH",
        "colab_type": "code",
        "outputId": "fab916ca-ef72-4c25-d675-2cbdfe2abc3e",
        "colab": {
          "base_uri": "https://localhost:8080/",
          "height": 1108
        }
      },
      "source": [
        "x_train_single_ex = x_train_data[0:1]\n",
        "y_train_single_ex = y_train_data[0:1]\n",
        "\n",
        "for hidden_size in [32, 64, 128, 256, 512, 1024, 2048, 4096]:\n",
        "    print(\"hidden_size = \", hidden_size)\n",
        "    model = get_modif_reNet(reNet_hidden_size=hidden_size)\n",
        "    \n",
        "    model.fit(x_train_single_ex, y_train_single_ex, epochs=1)\n",
        "    model.summary()\n",
        "    \n",
        "    datagen = ImageDataGenerator(width_shift_range=[-2.0, 0.0, 2.0])\n",
        "    datagen.fit(x_train_data)\n",
        "\n",
        "    batch_size = 32\n",
        "    model.fit_generator(datagen.flow(x_train_data, y_train_data, \n",
        "        batch_size=batch_size),\n",
        "        epochs=20,\n",
        "        steps_per_epoch=np.ceil(x_train.shape[0] / batch_size),\n",
        "        validation_data=(x_test_data, y_test_data),\n",
        "        callbacks=[EarlyStopping(monitor='val_loss', patience=20, verbose=1),\n",
        "                   ReduceLROnPlateau(monitor='val_loss', patience=5, verbose=1)])\n",
        "    \n",
        "    print(\"hidden_size = \", hidden_size)\n",
        "    print(\"test loss\", loss)\n",
        "    print(\"test acc: \", acc)"
      ],
      "execution_count": 0,
      "outputs": [
        {
          "output_type": "stream",
          "text": [
            "hidden_size =  32\n",
            "WARNING:tensorflow:From /usr/local/lib/python3.6/dist-packages/tensorflow/python/framework/op_def_library.py:263: colocate_with (from tensorflow.python.framework.ops) is deprecated and will be removed in a future version.\n",
            "Instructions for updating:\n",
            "Colocations handled automatically by placer.\n",
            "WARNING:tensorflow:From /usr/local/lib/python3.6/dist-packages/keras/backend/tensorflow_backend.py:3445: calling dropout (from tensorflow.python.ops.nn_ops) with keep_prob is deprecated and will be removed in a future version.\n",
            "Instructions for updating:\n",
            "Please use `rate` instead of `keep_prob`. Rate should be set to `rate = 1 - keep_prob`.\n",
            "WARNING:tensorflow:From /usr/local/lib/python3.6/dist-packages/tensorflow/python/ops/math_ops.py:3066: to_int32 (from tensorflow.python.ops.math_ops) is deprecated and will be removed in a future version.\n",
            "Instructions for updating:\n",
            "Use tf.cast instead.\n",
            "Epoch 1/1\n",
            "1/1 [==============================] - 10s 10s/step - loss: 2.3157 - categorical_accuracy: 0.0000e+00\n",
            "_________________________________________________________________\n",
            "Layer (type)                 Output Shape              Param #   \n",
            "=================================================================\n",
            "re_net_layer_1 (ReNetLayer)  (None, 16, 16, 64)        0         \n",
            "_________________________________________________________________\n",
            "re_net_layer_2 (ReNetLayer)  (None, 8, 8, 64)          0         \n",
            "_________________________________________________________________\n",
            "flatten_1 (Flatten)          (None, 4096)              0         \n",
            "_________________________________________________________________\n",
            "dense_1 (Dense)              (None, 4096)              16781312  \n",
            "_________________________________________________________________\n",
            "dropout_9 (Dropout)          (None, 4096)              0         \n",
            "_________________________________________________________________\n",
            "dense_2 (Dense)              (None, 10)                40970     \n",
            "=================================================================\n",
            "Total params: 16,822,282\n",
            "Trainable params: 16,822,282\n",
            "Non-trainable params: 0\n",
            "_________________________________________________________________\n",
            "Epoch 1/20\n",
            "1875/1875 [==============================] - 1651s 880ms/step - loss: 0.7190 - categorical_accuracy: 0.7280 - val_loss: 0.6118 - val_categorical_accuracy: 0.7683\n",
            "Epoch 2/20\n",
            "1875/1875 [==============================] - 1665s 888ms/step - loss: 0.6113 - categorical_accuracy: 0.7702 - val_loss: 0.5664 - val_categorical_accuracy: 0.7890\n",
            "Epoch 3/20\n",
            "1875/1875 [==============================] - 1670s 891ms/step - loss: 0.5762 - categorical_accuracy: 0.7850 - val_loss: 0.5589 - val_categorical_accuracy: 0.7919\n",
            "Epoch 4/20\n",
            "1875/1875 [==============================] - 1671s 891ms/step - loss: 0.5519 - categorical_accuracy: 0.7937 - val_loss: 0.5466 - val_categorical_accuracy: 0.7997\n",
            "Epoch 5/20\n",
            "1875/1875 [==============================] - 1664s 887ms/step - loss: 0.5341 - categorical_accuracy: 0.7976 - val_loss: 0.4970 - val_categorical_accuracy: 0.8202\n",
            "Epoch 6/20\n",
            "1875/1875 [==============================] - 1651s 880ms/step - loss: 0.5223 - categorical_accuracy: 0.8030 - val_loss: 0.4884 - val_categorical_accuracy: 0.8184\n",
            "Epoch 7/20\n",
            "1875/1875 [==============================] - 1649s 879ms/step - loss: 0.5123 - categorical_accuracy: 0.8077 - val_loss: 0.4985 - val_categorical_accuracy: 0.8153\n",
            "Epoch 8/20\n",
            "1875/1875 [==============================] - 1645s 877ms/step - loss: 0.5048 - categorical_accuracy: 0.8115 - val_loss: 0.5010 - val_categorical_accuracy: 0.8126\n",
            "Epoch 9/20\n",
            "1875/1875 [==============================] - 1647s 878ms/step - loss: 0.4951 - categorical_accuracy: 0.8138 - val_loss: 0.4950 - val_categorical_accuracy: 0.8214\n",
            "Epoch 10/20\n",
            "1875/1875 [==============================] - 1639s 874ms/step - loss: 0.4886 - categorical_accuracy: 0.8166 - val_loss: 0.4842 - val_categorical_accuracy: 0.8198\n",
            "Epoch 11/20\n",
            "1875/1875 [==============================] - 1649s 880ms/step - loss: 0.4835 - categorical_accuracy: 0.8173 - val_loss: 0.4616 - val_categorical_accuracy: 0.8342\n",
            "Epoch 12/20\n",
            "1875/1875 [==============================] - 1661s 886ms/step - loss: 0.4814 - categorical_accuracy: 0.8205 - val_loss: 0.4594 - val_categorical_accuracy: 0.8295\n",
            "Epoch 13/20\n",
            "1875/1875 [==============================] - 1665s 888ms/step - loss: 0.4749 - categorical_accuracy: 0.8220 - val_loss: 0.4629 - val_categorical_accuracy: 0.8316\n",
            "Epoch 14/20\n",
            "1875/1875 [==============================] - 1662s 886ms/step - loss: 0.4672 - categorical_accuracy: 0.8242 - val_loss: 0.4499 - val_categorical_accuracy: 0.8377\n",
            "Epoch 15/20\n",
            "1875/1875 [==============================] - 1661s 886ms/step - loss: 0.4648 - categorical_accuracy: 0.8252 - val_loss: 0.4472 - val_categorical_accuracy: 0.8369\n",
            "Epoch 16/20\n",
            "1199/1875 [==================>...........] - ETA: 8:34 - loss: 0.4554 - categorical_accuracy: 0.8291"
          ],
          "name": "stdout"
        }
      ]
    },
    {
      "cell_type": "markdown",
      "metadata": {
        "id": "2tMRRk7xS5ze",
        "colab_type": "text"
      },
      "source": [
        "# ***Cross validation 5 folds***"
      ]
    },
    {
      "cell_type": "code",
      "metadata": {
        "id": "8gBhFyxCRJcZ",
        "colab_type": "code",
        "colab": {}
      },
      "source": [
        "x = np.vstack([x_train_data, x_test_data])\n",
        "y = np.hstack([convert_from_one_hot_to_labels(y_train_data), convert_from_one_hot_to_labels(y_test_data)])\n",
        "\n",
        "def get_fold(fold_num):\n",
        "    fold_num = fold_num-1 #indexing from 0\n",
        "    x_train = x[train_indexes[fold_num]]\n",
        "    y_train = y[train_indexes[fold_num]]\n",
        "    x_test = x[test_indexes[fold_num]]\n",
        "    y_test = y[test_indexes[fold_num]]\n",
        "\n",
        "    x_train, y_train = undersample_to_lowest_cardinality_class(x_train, y_train)\n",
        "    \n",
        "    y_train = to_categorical(y_train)\n",
        "    y_test = to_categorical(y_test)\n",
        "    \n",
        "    return x_train, y_train, x_test, y_test"
      ],
      "execution_count": 0,
      "outputs": []
    },
    {
      "cell_type": "code",
      "metadata": {
        "id": "hHhgiucQSsRw",
        "colab_type": "code",
        "outputId": "3ccfdb63-7bed-4b12-80bc-2d61cb0de505",
        "colab": {
          "base_uri": "https://localhost:8080/",
          "height": 187
        }
      },
      "source": [
        "from sklearn.model_selection import StratifiedKFold\n",
        "\n",
        "def get_splits(x, y):\n",
        "    skf = StratifiedKFold(n_splits=5, shuffle=True, random_state=0)\n",
        "\n",
        "    train_indexes = []\n",
        "    test_indexes = []\n",
        "    for train_index, test_index in skf.split(x, y):\n",
        "        print(\"train_index: \", train_index)\n",
        "        print(\"test_index: \", test_index)\n",
        "        train_indexes.append(train_index)\n",
        "        test_indexes.append(test_index)\n",
        "        \n",
        "    return train_indexes, test_indexes\n",
        "\n",
        "train_indexes, test_indexes = get_splits(x, y)"
      ],
      "execution_count": 0,
      "outputs": [
        {
          "output_type": "stream",
          "text": [
            "train_index:  [    0     1     3 ... 69996 69997 69999]\n",
            "test_index:  [    2     8    12 ... 69990 69994 69998]\n",
            "train_index:  [    0     1     2 ... 69995 69998 69999]\n",
            "test_index:  [    6     9    13 ... 69992 69996 69997]\n",
            "train_index:  [    0     1     2 ... 69997 69998 69999]\n",
            "test_index:  [   10    11    19 ... 69982 69986 69993]\n",
            "train_index:  [    1     2     3 ... 69997 69998 69999]\n",
            "test_index:  [    0     4     7 ... 69976 69983 69995]\n",
            "train_index:  [    0     2     4 ... 69996 69997 69998]\n",
            "test_index:  [    1     3     5 ... 69988 69991 69999]\n"
          ],
          "name": "stdout"
        }
      ]
    },
    {
      "cell_type": "code",
      "metadata": {
        "id": "Tnko08xEWj_x",
        "colab_type": "code",
        "colab": {}
      },
      "source": [
        "def test_model_on_fold(model, x_train, y_train, x_test, y_test):\n",
        "    x_train_single_ex = x_train[0:1]\n",
        "    y_train_single_ex = y_train[0:1]\n",
        "    model.fit(x_train_single_ex, y_train_single_ex, epochs=1)\n",
        "    \n",
        "    datagen = ImageDataGenerator(width_shift_range=[-2.0, 0.0, 2.0])\n",
        "    datagen.fit(x_train)\n",
        "\n",
        "    batch_size = 32\n",
        "    model.fit_generator(datagen.flow(x_train, y_train, \n",
        "            batch_size=batch_size),\n",
        "            epochs=50,\n",
        "            verbose=2,\n",
        "            steps_per_epoch=np.ceil(x_train.shape[0] / batch_size),\n",
        "            validation_data=(x_test, y_test),\n",
        "            callbacks=[EarlyStopping(monitor='val_loss', patience=20, verbose=1, restore_best_weights=True),\n",
        "                   ReduceLROnPlateau(monitor='val_loss', patience=5, verbose=1)\n",
        "            ]\n",
        "        )\n",
        "    loss, acc = tuple(model.evaluate(x_test, y_test, batch_size=batch_size))\n",
        "    return loss, acc\n",
        "    "
      ],
      "execution_count": 0,
      "outputs": []
    },
    {
      "cell_type": "markdown",
      "metadata": {
        "id": "29g1N5PIU0FY",
        "colab_type": "text"
      },
      "source": [
        "# ***Fold 1***"
      ]
    },
    {
      "cell_type": "code",
      "metadata": {
        "id": "DlKJhwd-UxMK",
        "colab_type": "code",
        "colab": {}
      },
      "source": [
        "x_train, y_train, x_test, y_test = get_fold(1)"
      ],
      "execution_count": 0,
      "outputs": []
    },
    {
      "cell_type": "code",
      "metadata": {
        "id": "XEXKIwqHc3Q4",
        "colab_type": "code",
        "colab": {}
      },
      "source": [
        "model = get_reNet()\n",
        "\n",
        "loss, acc = test_model_on_fold(model, x_train, y_train, x_test, y_test)\n",
        "print(\"test loss\", loss)\n",
        "print(\"test acc: \", acc)"
      ],
      "execution_count": 0,
      "outputs": []
    },
    {
      "cell_type": "code",
      "metadata": {
        "id": "41MKBG7kc2UJ",
        "colab_type": "code",
        "colab": {}
      },
      "source": [
        "model = get_modif_reNet()\n",
        "\n",
        "loss, acc = test_model_on_fold(model, x_train, y_train, x_test, y_test)\n",
        "print(\"test loss\", loss)\n",
        "print(\"test acc: \", acc)"
      ],
      "execution_count": 0,
      "outputs": []
    },
    {
      "cell_type": "code",
      "metadata": {
        "id": "xBdD4mTRVRhO",
        "colab_type": "code",
        "outputId": "b0ad035c-635d-4d4a-e785-1b3dd35d2993",
        "colab": {
          "base_uri": "https://localhost:8080/",
          "height": 1669
        }
      },
      "source": [
        "model = get_conv()\n",
        "\n",
        "loss, acc = test_model_on_fold(model, x_train, y_train, x_test, y_test)\n",
        "print(\"test loss\", loss)\n",
        "print(\"test acc: \", acc)"
      ],
      "execution_count": 0,
      "outputs": [
        {
          "output_type": "stream",
          "text": [
            "WARNING:tensorflow:From /usr/local/lib/python3.6/dist-packages/tensorflow/python/framework/op_def_library.py:263: colocate_with (from tensorflow.python.framework.ops) is deprecated and will be removed in a future version.\n",
            "Instructions for updating:\n",
            "Colocations handled automatically by placer.\n",
            "WARNING:tensorflow:From /usr/local/lib/python3.6/dist-packages/keras/backend/tensorflow_backend.py:3445: calling dropout (from tensorflow.python.ops.nn_ops) with keep_prob is deprecated and will be removed in a future version.\n",
            "Instructions for updating:\n",
            "Please use `rate` instead of `keep_prob`. Rate should be set to `rate = 1 - keep_prob`.\n",
            "WARNING:tensorflow:From /usr/local/lib/python3.6/dist-packages/tensorflow/python/ops/math_ops.py:3066: to_int32 (from tensorflow.python.ops.math_ops) is deprecated and will be removed in a future version.\n",
            "Instructions for updating:\n",
            "Use tf.cast instead.\n",
            "Epoch 1/1\n",
            "1/1 [==============================] - 2s 2s/step - loss: 6.9546 - categorical_accuracy: 0.0000e+00\n",
            "Epoch 1/50\n",
            " - 640s - loss: 0.6530 - categorical_accuracy: 0.7873 - val_loss: 0.4055 - val_categorical_accuracy: 0.8600\n",
            "Epoch 2/50\n",
            " - 643s - loss: 0.4338 - categorical_accuracy: 0.8502 - val_loss: 0.3650 - val_categorical_accuracy: 0.8734\n",
            "Epoch 3/50\n",
            " - 624s - loss: 0.3761 - categorical_accuracy: 0.8686 - val_loss: 0.3048 - val_categorical_accuracy: 0.8876\n",
            "Epoch 4/50\n",
            " - 654s - loss: 0.3354 - categorical_accuracy: 0.8829 - val_loss: 0.2793 - val_categorical_accuracy: 0.9009\n",
            "Epoch 5/50\n",
            " - 651s - loss: 0.3019 - categorical_accuracy: 0.8940 - val_loss: 0.2572 - val_categorical_accuracy: 0.9090\n",
            "Epoch 6/50\n",
            " - 629s - loss: 0.2711 - categorical_accuracy: 0.9043 - val_loss: 0.2490 - val_categorical_accuracy: 0.9106\n",
            "Epoch 7/50\n",
            " - 626s - loss: 0.2481 - categorical_accuracy: 0.9104 - val_loss: 0.2371 - val_categorical_accuracy: 0.9174\n",
            "Epoch 8/50\n",
            " - 629s - loss: 0.2296 - categorical_accuracy: 0.9162 - val_loss: 0.2302 - val_categorical_accuracy: 0.9184\n",
            "Epoch 9/50\n",
            " - 633s - loss: 0.2142 - categorical_accuracy: 0.9233 - val_loss: 0.2496 - val_categorical_accuracy: 0.9144\n",
            "Epoch 10/50\n",
            " - 640s - loss: 0.2020 - categorical_accuracy: 0.9277 - val_loss: 0.2407 - val_categorical_accuracy: 0.9163\n",
            "Epoch 11/50\n",
            " - 651s - loss: 0.1916 - categorical_accuracy: 0.9299 - val_loss: 0.2239 - val_categorical_accuracy: 0.9204\n",
            "Epoch 12/50\n",
            " - 630s - loss: 0.1815 - categorical_accuracy: 0.9335 - val_loss: 0.2311 - val_categorical_accuracy: 0.9227\n",
            "Epoch 13/50\n",
            " - 633s - loss: 0.1717 - categorical_accuracy: 0.9373 - val_loss: 0.2305 - val_categorical_accuracy: 0.9230\n",
            "Epoch 14/50\n",
            " - 629s - loss: 0.1670 - categorical_accuracy: 0.9384 - val_loss: 0.2272 - val_categorical_accuracy: 0.9206\n",
            "Epoch 15/50\n",
            " - 649s - loss: 0.1561 - categorical_accuracy: 0.9427 - val_loss: 0.2244 - val_categorical_accuracy: 0.9244\n",
            "Epoch 16/50\n",
            " - 658s - loss: 0.1514 - categorical_accuracy: 0.9443 - val_loss: 0.2151 - val_categorical_accuracy: 0.9274\n",
            "Epoch 17/50\n",
            " - 659s - loss: 0.1442 - categorical_accuracy: 0.9477 - val_loss: 0.2238 - val_categorical_accuracy: 0.9259\n",
            "Epoch 18/50\n",
            " - 640s - loss: 0.1357 - categorical_accuracy: 0.9502 - val_loss: 0.2201 - val_categorical_accuracy: 0.9279\n",
            "Epoch 19/50\n",
            " - 648s - loss: 0.1342 - categorical_accuracy: 0.9509 - val_loss: 0.2635 - val_categorical_accuracy: 0.9171\n",
            "Epoch 20/50\n",
            " - 660s - loss: 0.1278 - categorical_accuracy: 0.9528 - val_loss: 0.2356 - val_categorical_accuracy: 0.9266\n",
            "Epoch 21/50\n",
            " - 678s - loss: 0.1263 - categorical_accuracy: 0.9547 - val_loss: 0.2372 - val_categorical_accuracy: 0.9259\n",
            "\n",
            "Epoch 00021: ReduceLROnPlateau reducing learning rate to 0.00010000000474974513.\n",
            "Epoch 22/50\n",
            " - 672s - loss: 0.0921 - categorical_accuracy: 0.9665 - val_loss: 0.2275 - val_categorical_accuracy: 0.9324\n",
            "Epoch 23/50\n",
            " - 656s - loss: 0.0748 - categorical_accuracy: 0.9718 - val_loss: 0.2363 - val_categorical_accuracy: 0.9345\n",
            "Epoch 24/50\n",
            " - 679s - loss: 0.0692 - categorical_accuracy: 0.9734 - val_loss: 0.2357 - val_categorical_accuracy: 0.9334\n",
            "Epoch 25/50\n",
            " - 672s - loss: 0.0605 - categorical_accuracy: 0.9779 - val_loss: 0.2427 - val_categorical_accuracy: 0.9326\n",
            "Epoch 26/50\n",
            " - 660s - loss: 0.0572 - categorical_accuracy: 0.9790 - val_loss: 0.2482 - val_categorical_accuracy: 0.9334\n",
            "\n",
            "Epoch 00026: ReduceLROnPlateau reducing learning rate to 1.0000000474974514e-05.\n",
            "Epoch 27/50\n",
            " - 675s - loss: 0.0543 - categorical_accuracy: 0.9803 - val_loss: 0.2499 - val_categorical_accuracy: 0.9336\n",
            "Epoch 28/50\n",
            " - 666s - loss: 0.0537 - categorical_accuracy: 0.9794 - val_loss: 0.2498 - val_categorical_accuracy: 0.9336\n",
            "Epoch 29/50\n",
            " - 666s - loss: 0.0533 - categorical_accuracy: 0.9809 - val_loss: 0.2493 - val_categorical_accuracy: 0.9342\n",
            "Epoch 30/50\n",
            " - 655s - loss: 0.0513 - categorical_accuracy: 0.9811 - val_loss: 0.2507 - val_categorical_accuracy: 0.9339\n",
            "Epoch 31/50\n",
            " - 649s - loss: 0.0529 - categorical_accuracy: 0.9806 - val_loss: 0.2498 - val_categorical_accuracy: 0.9335\n",
            "\n",
            "Epoch 00031: ReduceLROnPlateau reducing learning rate to 1.0000000656873453e-06.\n",
            "Epoch 32/50\n",
            " - 665s - loss: 0.0508 - categorical_accuracy: 0.9817 - val_loss: 0.2501 - val_categorical_accuracy: 0.9337\n",
            "Epoch 33/50\n",
            " - 642s - loss: 0.0510 - categorical_accuracy: 0.9816 - val_loss: 0.2500 - val_categorical_accuracy: 0.9334\n",
            "Epoch 34/50\n",
            " - 628s - loss: 0.0504 - categorical_accuracy: 0.9813 - val_loss: 0.2505 - val_categorical_accuracy: 0.9341\n",
            "Epoch 35/50\n",
            " - 646s - loss: 0.0520 - categorical_accuracy: 0.9815 - val_loss: 0.2504 - val_categorical_accuracy: 0.9338\n",
            "Epoch 36/50\n",
            " - 647s - loss: 0.0504 - categorical_accuracy: 0.9811 - val_loss: 0.2503 - val_categorical_accuracy: 0.9339\n",
            "Restoring model weights from the end of the best epoch\n",
            "\n",
            "Epoch 00036: ReduceLROnPlateau reducing learning rate to 1.0000001111620805e-07.\n",
            "Epoch 00036: early stopping\n",
            "14000/14000 [==============================] - 39s 3ms/step\n",
            "test loss 0.21509882748339856\n",
            "test acc:  0.9273571428571429\n"
          ],
          "name": "stdout"
        }
      ]
    },
    {
      "cell_type": "markdown",
      "metadata": {
        "id": "kz9Kx2Z4hMXR",
        "colab_type": "text"
      },
      "source": [
        "# ***Fold 2***"
      ]
    },
    {
      "cell_type": "code",
      "metadata": {
        "id": "WzO-0AIGhO4O",
        "colab_type": "code",
        "colab": {}
      },
      "source": [
        "x_train, y_train, x_test, y_test = get_fold(2)"
      ],
      "execution_count": 0,
      "outputs": []
    },
    {
      "cell_type": "code",
      "metadata": {
        "id": "grq9bbIuhS5I",
        "colab_type": "code",
        "colab": {}
      },
      "source": [
        "model = get_reNet()\n",
        "\n",
        "loss, acc = test_model_on_fold(model, x_train, y_train, x_test, y_test)\n",
        "print(\"test loss\", loss)\n",
        "print(\"test acc: \", acc)"
      ],
      "execution_count": 0,
      "outputs": []
    },
    {
      "cell_type": "code",
      "metadata": {
        "id": "J3nlstZ9hUp4",
        "colab_type": "code",
        "colab": {}
      },
      "source": [
        "model = get_modif_reNet()\n",
        "\n",
        "loss, acc = test_model_on_fold(model, x_train, y_train, x_test, y_test)\n",
        "print(\"test loss\", loss)\n",
        "print(\"test acc: \", acc)"
      ],
      "execution_count": 0,
      "outputs": []
    },
    {
      "cell_type": "code",
      "metadata": {
        "id": "bbzSSvc0hWOp",
        "colab_type": "code",
        "outputId": "92731db7-9f90-4f76-b36f-f28eb07621b2",
        "colab": {
          "base_uri": "https://localhost:8080/",
          "height": 1224
        }
      },
      "source": [
        "model = get_conv()\n",
        "\n",
        "loss, acc = test_model_on_fold(model, x_train, y_train, x_test, y_test)\n",
        "print(\"test loss\", loss)\n",
        "print(\"test acc: \", acc)"
      ],
      "execution_count": 0,
      "outputs": [
        {
          "output_type": "stream",
          "text": [
            "Epoch 1/1\n",
            "1/1 [==============================] - 2s 2s/step - loss: 7.3309 - categorical_accuracy: 0.0000e+00\n",
            "Epoch 1/50\n",
            " - 666s - loss: 0.6580 - categorical_accuracy: 0.7869 - val_loss: 0.4015 - val_categorical_accuracy: 0.8507\n",
            "Epoch 2/50\n",
            " - 659s - loss: 0.4342 - categorical_accuracy: 0.8487 - val_loss: 0.3170 - val_categorical_accuracy: 0.8882\n",
            "Epoch 3/50\n",
            " - 634s - loss: 0.3736 - categorical_accuracy: 0.8682 - val_loss: 0.2916 - val_categorical_accuracy: 0.8959\n",
            "Epoch 4/50\n",
            " - 633s - loss: 0.3347 - categorical_accuracy: 0.8816 - val_loss: 0.2684 - val_categorical_accuracy: 0.9017\n",
            "Epoch 5/50\n",
            " - 632s - loss: 0.3018 - categorical_accuracy: 0.8928 - val_loss: 0.2531 - val_categorical_accuracy: 0.9078\n",
            "Epoch 6/50\n",
            " - 642s - loss: 0.2735 - categorical_accuracy: 0.9030 - val_loss: 0.2522 - val_categorical_accuracy: 0.9115\n",
            "Epoch 7/50\n",
            " - 669s - loss: 0.2515 - categorical_accuracy: 0.9092 - val_loss: 0.2337 - val_categorical_accuracy: 0.9174\n",
            "Epoch 8/50\n",
            " - 656s - loss: 0.2323 - categorical_accuracy: 0.9159 - val_loss: 0.2347 - val_categorical_accuracy: 0.9161\n",
            "Epoch 9/50\n",
            " - 657s - loss: 0.2170 - categorical_accuracy: 0.9216 - val_loss: 0.2168 - val_categorical_accuracy: 0.9236\n",
            "Epoch 10/50\n",
            " - 633s - loss: 0.2014 - categorical_accuracy: 0.9264 - val_loss: 0.2170 - val_categorical_accuracy: 0.9214\n",
            "Epoch 11/50\n",
            " - 628s - loss: 0.1942 - categorical_accuracy: 0.9283 - val_loss: 0.2168 - val_categorical_accuracy: 0.9251\n",
            "Epoch 12/50\n",
            " - 651s - loss: 0.1824 - categorical_accuracy: 0.9332 - val_loss: 0.2174 - val_categorical_accuracy: 0.9236\n",
            "Epoch 13/50\n",
            " - 653s - loss: 0.1720 - categorical_accuracy: 0.9372 - val_loss: 0.2287 - val_categorical_accuracy: 0.9199\n",
            "Epoch 14/50\n",
            " - 658s - loss: 0.1658 - categorical_accuracy: 0.9403 - val_loss: 0.2186 - val_categorical_accuracy: 0.9276\n",
            "\n",
            "Epoch 00014: ReduceLROnPlateau reducing learning rate to 0.00010000000474974513.\n",
            "Epoch 15/50\n",
            " - 657s - loss: 0.1221 - categorical_accuracy: 0.9553 - val_loss: 0.2021 - val_categorical_accuracy: 0.9329\n",
            "Epoch 16/50\n",
            " - 638s - loss: 0.1059 - categorical_accuracy: 0.9611 - val_loss: 0.2041 - val_categorical_accuracy: 0.9325\n",
            "Epoch 17/50\n",
            " - 637s - loss: 0.0975 - categorical_accuracy: 0.9644 - val_loss: 0.2134 - val_categorical_accuracy: 0.9323\n",
            "Epoch 18/50\n",
            " - 662s - loss: 0.0899 - categorical_accuracy: 0.9666 - val_loss: 0.2134 - val_categorical_accuracy: 0.9331\n",
            "Epoch 19/50\n",
            " - 662s - loss: 0.0847 - categorical_accuracy: 0.9695 - val_loss: 0.2172 - val_categorical_accuracy: 0.9322\n",
            "Epoch 20/50\n",
            " - 628s - loss: 0.0796 - categorical_accuracy: 0.9709 - val_loss: 0.2213 - val_categorical_accuracy: 0.9338\n",
            "\n",
            "Epoch 00020: ReduceLROnPlateau reducing learning rate to 1.0000000474974514e-05.\n",
            "Epoch 21/50\n",
            " - 632s - loss: 0.0737 - categorical_accuracy: 0.9727 - val_loss: 0.2198 - val_categorical_accuracy: 0.9341\n",
            "Epoch 22/50\n",
            " - 641s - loss: 0.0737 - categorical_accuracy: 0.9729 - val_loss: 0.2201 - val_categorical_accuracy: 0.9339\n",
            "Epoch 23/50\n",
            " - 672s - loss: 0.0702 - categorical_accuracy: 0.9746 - val_loss: 0.2206 - val_categorical_accuracy: 0.9339\n",
            "Epoch 24/50\n",
            " - 676s - loss: 0.0728 - categorical_accuracy: 0.9729 - val_loss: 0.2211 - val_categorical_accuracy: 0.9341\n",
            "Epoch 25/50\n",
            " - 649s - loss: 0.0717 - categorical_accuracy: 0.9731 - val_loss: 0.2212 - val_categorical_accuracy: 0.9343\n",
            "\n",
            "Epoch 00025: ReduceLROnPlateau reducing learning rate to 1.0000000656873453e-06.\n",
            "Epoch 26/50\n",
            " - 629s - loss: 0.0720 - categorical_accuracy: 0.9731 - val_loss: 0.2210 - val_categorical_accuracy: 0.9345\n",
            "Epoch 27/50\n",
            " - 633s - loss: 0.0709 - categorical_accuracy: 0.9735 - val_loss: 0.2212 - val_categorical_accuracy: 0.9340\n",
            "Epoch 28/50\n",
            " - 640s - loss: 0.0698 - categorical_accuracy: 0.9742 - val_loss: 0.2212 - val_categorical_accuracy: 0.9343\n",
            "Epoch 29/50\n",
            " - 670s - loss: 0.0714 - categorical_accuracy: 0.9727 - val_loss: 0.2214 - val_categorical_accuracy: 0.9341\n",
            "Epoch 30/50\n",
            " - 657s - loss: 0.0694 - categorical_accuracy: 0.9746 - val_loss: 0.2217 - val_categorical_accuracy: 0.9342\n",
            "\n",
            "Epoch 00030: ReduceLROnPlateau reducing learning rate to 1.0000001111620805e-07.\n",
            "Epoch 31/50\n"
          ],
          "name": "stdout"
        }
      ]
    },
    {
      "cell_type": "markdown",
      "metadata": {
        "id": "thPafLkehW5X",
        "colab_type": "text"
      },
      "source": [
        "# ***Fold 3***"
      ]
    },
    {
      "cell_type": "code",
      "metadata": {
        "id": "jcVL45dkhZAB",
        "colab_type": "code",
        "colab": {}
      },
      "source": [
        "x_train, y_train, x_test, y_test = get_fold(3)"
      ],
      "execution_count": 0,
      "outputs": []
    },
    {
      "cell_type": "code",
      "metadata": {
        "id": "onmwJ_CchapH",
        "colab_type": "code",
        "colab": {}
      },
      "source": [
        "model = get_reNet()\n",
        "\n",
        "loss, acc = test_model_on_fold(model, x_train, y_train, x_test, y_test)\n",
        "print(\"test loss\", loss)\n",
        "print(\"test acc: \", acc)"
      ],
      "execution_count": 0,
      "outputs": []
    },
    {
      "cell_type": "code",
      "metadata": {
        "id": "LFLsI21_hcWm",
        "colab_type": "code",
        "colab": {}
      },
      "source": [
        "model = get_modif_reNet()\n",
        "\n",
        "loss, acc = test_model_on_fold(model, x_train, y_train, x_test, y_test)\n",
        "print(\"test loss\", loss)\n",
        "print(\"test acc: \", acc)"
      ],
      "execution_count": 0,
      "outputs": []
    },
    {
      "cell_type": "code",
      "metadata": {
        "id": "iqfXEobZhc3r",
        "colab_type": "code",
        "outputId": "a1b1db86-375d-4731-efd0-16aa646f6081",
        "colab": {
          "base_uri": "https://localhost:8080/",
          "height": 1499
        }
      },
      "source": [
        "model = get_conv()\n",
        "\n",
        "loss, acc = test_model_on_fold(model, x_train, y_train, x_test, y_test)\n",
        "print(\"test loss\", loss)\n",
        "print(\"test acc: \", acc)"
      ],
      "execution_count": 0,
      "outputs": [
        {
          "output_type": "stream",
          "text": [
            "WARNING:tensorflow:From /usr/local/lib/python3.6/dist-packages/tensorflow/python/framework/op_def_library.py:263: colocate_with (from tensorflow.python.framework.ops) is deprecated and will be removed in a future version.\n",
            "Instructions for updating:\n",
            "Colocations handled automatically by placer.\n",
            "WARNING:tensorflow:From /usr/local/lib/python3.6/dist-packages/keras/backend/tensorflow_backend.py:3445: calling dropout (from tensorflow.python.ops.nn_ops) with keep_prob is deprecated and will be removed in a future version.\n",
            "Instructions for updating:\n",
            "Please use `rate` instead of `keep_prob`. Rate should be set to `rate = 1 - keep_prob`.\n",
            "WARNING:tensorflow:From /usr/local/lib/python3.6/dist-packages/tensorflow/python/ops/math_ops.py:3066: to_int32 (from tensorflow.python.ops.math_ops) is deprecated and will be removed in a future version.\n",
            "Instructions for updating:\n",
            "Use tf.cast instead.\n",
            "Epoch 1/1\n",
            "1/1 [==============================] - 2s 2s/step - loss: 6.4195 - categorical_accuracy: 0.0000e+00\n",
            "Epoch 1/50\n",
            " - 627s - loss: 0.6463 - categorical_accuracy: 0.7895 - val_loss: 0.3841 - val_categorical_accuracy: 0.8591\n",
            "Epoch 2/50\n",
            " - 613s - loss: 0.4292 - categorical_accuracy: 0.8523 - val_loss: 0.3543 - val_categorical_accuracy: 0.8763\n",
            "Epoch 3/50\n",
            " - 613s - loss: 0.3754 - categorical_accuracy: 0.8694 - val_loss: 0.2948 - val_categorical_accuracy: 0.8974\n",
            "Epoch 4/50\n",
            " - 616s - loss: 0.3357 - categorical_accuracy: 0.8825 - val_loss: 0.2701 - val_categorical_accuracy: 0.9034\n",
            "Epoch 5/50\n",
            " - 615s - loss: 0.2983 - categorical_accuracy: 0.8942 - val_loss: 0.2433 - val_categorical_accuracy: 0.9125\n",
            "Epoch 6/50\n",
            " - 611s - loss: 0.2714 - categorical_accuracy: 0.9039 - val_loss: 0.2396 - val_categorical_accuracy: 0.9128\n",
            "Epoch 7/50\n",
            " - 612s - loss: 0.2462 - categorical_accuracy: 0.9105 - val_loss: 0.2454 - val_categorical_accuracy: 0.9134\n",
            "Epoch 8/50\n",
            " - 613s - loss: 0.2289 - categorical_accuracy: 0.9166 - val_loss: 0.2315 - val_categorical_accuracy: 0.9161\n",
            "Epoch 9/50\n",
            " - 611s - loss: 0.2151 - categorical_accuracy: 0.9206 - val_loss: 0.2194 - val_categorical_accuracy: 0.9214\n",
            "Epoch 10/50\n",
            " - 608s - loss: 0.2023 - categorical_accuracy: 0.9263 - val_loss: 0.2340 - val_categorical_accuracy: 0.9201\n",
            "Epoch 11/50\n",
            " - 611s - loss: 0.1902 - categorical_accuracy: 0.9312 - val_loss: 0.2161 - val_categorical_accuracy: 0.9219\n",
            "Epoch 12/50\n",
            " - 613s - loss: 0.1784 - categorical_accuracy: 0.9343 - val_loss: 0.2413 - val_categorical_accuracy: 0.9199\n",
            "Epoch 13/50\n",
            " - 611s - loss: 0.1699 - categorical_accuracy: 0.9383 - val_loss: 0.2179 - val_categorical_accuracy: 0.9250\n",
            "Epoch 14/50\n",
            " - 620s - loss: 0.1606 - categorical_accuracy: 0.9411 - val_loss: 0.2274 - val_categorical_accuracy: 0.9256\n",
            "Epoch 15/50\n",
            " - 621s - loss: 0.1566 - categorical_accuracy: 0.9436 - val_loss: 0.2165 - val_categorical_accuracy: 0.9269\n",
            "Epoch 16/50\n",
            " - 622s - loss: 0.1493 - categorical_accuracy: 0.9461 - val_loss: 0.2189 - val_categorical_accuracy: 0.9244\n",
            "\n",
            "Epoch 00016: ReduceLROnPlateau reducing learning rate to 0.00010000000474974513.\n",
            "Epoch 17/50\n",
            " - 625s - loss: 0.1076 - categorical_accuracy: 0.9610 - val_loss: 0.2178 - val_categorical_accuracy: 0.9314\n",
            "Epoch 18/50\n",
            " - 622s - loss: 0.0932 - categorical_accuracy: 0.9660 - val_loss: 0.2183 - val_categorical_accuracy: 0.9330\n",
            "Epoch 19/50\n",
            " - 623s - loss: 0.0824 - categorical_accuracy: 0.9703 - val_loss: 0.2267 - val_categorical_accuracy: 0.9342\n",
            "Epoch 20/50\n",
            " - 615s - loss: 0.0764 - categorical_accuracy: 0.9714 - val_loss: 0.2279 - val_categorical_accuracy: 0.9335\n",
            "Epoch 21/50\n",
            " - 612s - loss: 0.0726 - categorical_accuracy: 0.9735 - val_loss: 0.2253 - val_categorical_accuracy: 0.9339\n",
            "\n",
            "Epoch 00021: ReduceLROnPlateau reducing learning rate to 1.0000000474974514e-05.\n",
            "Epoch 22/50\n",
            " - 614s - loss: 0.0671 - categorical_accuracy: 0.9752 - val_loss: 0.2278 - val_categorical_accuracy: 0.9338\n",
            "Epoch 23/50\n",
            " - 611s - loss: 0.0685 - categorical_accuracy: 0.9748 - val_loss: 0.2291 - val_categorical_accuracy: 0.9339\n",
            "Epoch 24/50\n",
            " - 612s - loss: 0.0656 - categorical_accuracy: 0.9758 - val_loss: 0.2318 - val_categorical_accuracy: 0.9336\n",
            "Epoch 25/50\n",
            " - 614s - loss: 0.0635 - categorical_accuracy: 0.9766 - val_loss: 0.2343 - val_categorical_accuracy: 0.9341\n",
            "Epoch 26/50\n",
            " - 616s - loss: 0.0646 - categorical_accuracy: 0.9761 - val_loss: 0.2341 - val_categorical_accuracy: 0.9331\n",
            "\n",
            "Epoch 00026: ReduceLROnPlateau reducing learning rate to 1.0000000656873453e-06.\n",
            "Epoch 27/50\n",
            " - 616s - loss: 0.0640 - categorical_accuracy: 0.9764 - val_loss: 0.2341 - val_categorical_accuracy: 0.9336\n",
            "Epoch 28/50\n",
            " - 619s - loss: 0.0646 - categorical_accuracy: 0.9760 - val_loss: 0.2344 - val_categorical_accuracy: 0.9337\n",
            "Epoch 29/50\n",
            " - 622s - loss: 0.0608 - categorical_accuracy: 0.9779 - val_loss: 0.2343 - val_categorical_accuracy: 0.9339\n",
            "Epoch 30/50\n",
            " - 623s - loss: 0.0637 - categorical_accuracy: 0.9771 - val_loss: 0.2348 - val_categorical_accuracy: 0.9336\n",
            "Epoch 31/50\n",
            " - 620s - loss: 0.0628 - categorical_accuracy: 0.9763 - val_loss: 0.2350 - val_categorical_accuracy: 0.9336\n",
            "Restoring model weights from the end of the best epoch\n",
            "\n",
            "Epoch 00031: ReduceLROnPlateau reducing learning rate to 1.0000001111620805e-07.\n",
            "Epoch 00031: early stopping\n",
            "14000/14000 [==============================] - 39s 3ms/step\n",
            "test loss 0.21611173008595194\n",
            "test acc:  0.9218571428571428\n"
          ],
          "name": "stdout"
        }
      ]
    },
    {
      "cell_type": "markdown",
      "metadata": {
        "id": "V_d-jvRthgEH",
        "colab_type": "text"
      },
      "source": [
        "# ***Fold 4***"
      ]
    },
    {
      "cell_type": "code",
      "metadata": {
        "id": "-s71Tc-rhlVL",
        "colab_type": "code",
        "colab": {}
      },
      "source": [
        "x_train, y_train, x_test, y_test = get_fold(4)"
      ],
      "execution_count": 0,
      "outputs": []
    },
    {
      "cell_type": "code",
      "metadata": {
        "id": "R6ObBM4Fhofu",
        "colab_type": "code",
        "colab": {}
      },
      "source": [
        "model = get_reNet()\n",
        "\n",
        "loss, acc = test_model_on_fold(model, x_train, y_train, x_test, y_test)\n",
        "print(\"test loss\", loss)\n",
        "print(\"test acc: \", acc)"
      ],
      "execution_count": 0,
      "outputs": []
    },
    {
      "cell_type": "code",
      "metadata": {
        "id": "bQ6vB2PPhoZV",
        "colab_type": "code",
        "colab": {}
      },
      "source": [
        "model = get_modif_reNet()\n",
        "\n",
        "loss, acc = test_model_on_fold(model, x_train, y_train, x_test, y_test)\n",
        "print(\"test loss\", loss)\n",
        "print(\"test acc: \", acc)"
      ],
      "execution_count": 0,
      "outputs": []
    },
    {
      "cell_type": "code",
      "metadata": {
        "id": "RVb-2GezhoSD",
        "colab_type": "code",
        "outputId": "cb1622f8-c550-4d97-8a9b-680fdfa53d01",
        "colab": {
          "base_uri": "https://localhost:8080/",
          "height": 1462
        }
      },
      "source": [
        "model = get_conv()\n",
        "\n",
        "loss, acc = test_model_on_fold(model, x_train, y_train, x_test, y_test)\n",
        "print(\"test loss\", loss)\n",
        "print(\"test acc: \", acc)"
      ],
      "execution_count": 0,
      "outputs": [
        {
          "output_type": "stream",
          "text": [
            "Epoch 1/1\n",
            "1/1 [==============================] - 2s 2s/step - loss: 1.3053 - categorical_accuracy: 1.0000\n",
            "Epoch 1/50\n",
            " - 620s - loss: 0.6480 - categorical_accuracy: 0.7886 - val_loss: 0.3738 - val_categorical_accuracy: 0.8630\n",
            "Epoch 2/50\n",
            " - 626s - loss: 0.4293 - categorical_accuracy: 0.8510 - val_loss: 0.3085 - val_categorical_accuracy: 0.8863\n",
            "Epoch 3/50\n",
            " - 625s - loss: 0.3740 - categorical_accuracy: 0.8686 - val_loss: 0.2767 - val_categorical_accuracy: 0.8987\n",
            "Epoch 4/50\n",
            " - 627s - loss: 0.3240 - categorical_accuracy: 0.8851 - val_loss: 0.2958 - val_categorical_accuracy: 0.8948\n",
            "Epoch 5/50\n",
            " - 634s - loss: 0.2973 - categorical_accuracy: 0.8948 - val_loss: 0.2646 - val_categorical_accuracy: 0.9047\n",
            "Epoch 6/50\n",
            " - 638s - loss: 0.2685 - categorical_accuracy: 0.9041 - val_loss: 0.2423 - val_categorical_accuracy: 0.9134\n",
            "Epoch 7/50\n",
            " - 635s - loss: 0.2435 - categorical_accuracy: 0.9123 - val_loss: 0.2190 - val_categorical_accuracy: 0.9212\n",
            "Epoch 8/50\n",
            " - 636s - loss: 0.2280 - categorical_accuracy: 0.9178 - val_loss: 0.2198 - val_categorical_accuracy: 0.9208\n",
            "Epoch 9/50\n",
            " - 638s - loss: 0.2109 - categorical_accuracy: 0.9228 - val_loss: 0.2187 - val_categorical_accuracy: 0.9244\n",
            "Epoch 10/50\n",
            " - 638s - loss: 0.2020 - categorical_accuracy: 0.9272 - val_loss: 0.2407 - val_categorical_accuracy: 0.9170\n",
            "Epoch 11/50\n",
            " - 637s - loss: 0.1907 - categorical_accuracy: 0.9305 - val_loss: 0.2178 - val_categorical_accuracy: 0.9229\n",
            "Epoch 12/50\n",
            " - 633s - loss: 0.1819 - categorical_accuracy: 0.9343 - val_loss: 0.2218 - val_categorical_accuracy: 0.9226\n",
            "Epoch 13/50\n",
            " - 634s - loss: 0.1710 - categorical_accuracy: 0.9369 - val_loss: 0.2250 - val_categorical_accuracy: 0.9212\n",
            "Epoch 14/50\n",
            " - 638s - loss: 0.1626 - categorical_accuracy: 0.9418 - val_loss: 0.2278 - val_categorical_accuracy: 0.9255\n",
            "Epoch 15/50\n",
            " - 639s - loss: 0.1525 - categorical_accuracy: 0.9443 - val_loss: 0.2158 - val_categorical_accuracy: 0.9287\n",
            "Epoch 16/50\n",
            " - 637s - loss: 0.1465 - categorical_accuracy: 0.9465 - val_loss: 0.2304 - val_categorical_accuracy: 0.9255\n",
            "Epoch 17/50\n",
            " - 638s - loss: 0.1432 - categorical_accuracy: 0.9481 - val_loss: 0.2448 - val_categorical_accuracy: 0.9264\n",
            "Epoch 18/50\n",
            " - 642s - loss: 0.1372 - categorical_accuracy: 0.9503 - val_loss: 0.2334 - val_categorical_accuracy: 0.9291\n",
            "Epoch 19/50\n",
            " - 643s - loss: 0.1294 - categorical_accuracy: 0.9526 - val_loss: 0.2452 - val_categorical_accuracy: 0.9250\n",
            "Epoch 20/50\n",
            " - 642s - loss: 0.1261 - categorical_accuracy: 0.9526 - val_loss: 0.2307 - val_categorical_accuracy: 0.9249\n",
            "\n",
            "Epoch 00020: ReduceLROnPlateau reducing learning rate to 0.00010000000474974513.\n",
            "Epoch 21/50\n",
            " - 640s - loss: 0.0922 - categorical_accuracy: 0.9660 - val_loss: 0.2307 - val_categorical_accuracy: 0.9321\n",
            "Epoch 22/50\n",
            " - 639s - loss: 0.0774 - categorical_accuracy: 0.9718 - val_loss: 0.2334 - val_categorical_accuracy: 0.9336\n",
            "Epoch 23/50\n",
            " - 637s - loss: 0.0691 - categorical_accuracy: 0.9751 - val_loss: 0.2422 - val_categorical_accuracy: 0.9334\n",
            "Epoch 24/50\n",
            " - 641s - loss: 0.0628 - categorical_accuracy: 0.9772 - val_loss: 0.2439 - val_categorical_accuracy: 0.9329\n",
            "Epoch 25/50\n",
            " - 645s - loss: 0.0587 - categorical_accuracy: 0.9789 - val_loss: 0.2527 - val_categorical_accuracy: 0.9336\n",
            "\n",
            "Epoch 00025: ReduceLROnPlateau reducing learning rate to 1.0000000474974514e-05.\n",
            "Epoch 26/50\n",
            " - 643s - loss: 0.0532 - categorical_accuracy: 0.9806 - val_loss: 0.2537 - val_categorical_accuracy: 0.9335\n",
            "Epoch 27/50\n",
            " - 642s - loss: 0.0539 - categorical_accuracy: 0.9800 - val_loss: 0.2516 - val_categorical_accuracy: 0.9336\n",
            "Epoch 28/50\n",
            " - 643s - loss: 0.0524 - categorical_accuracy: 0.9811 - val_loss: 0.2529 - val_categorical_accuracy: 0.9336\n",
            "Epoch 29/50\n",
            " - 639s - loss: 0.0524 - categorical_accuracy: 0.9811 - val_loss: 0.2522 - val_categorical_accuracy: 0.9334\n",
            "Epoch 30/50\n",
            " - 633s - loss: 0.0529 - categorical_accuracy: 0.9809 - val_loss: 0.2518 - val_categorical_accuracy: 0.9334\n",
            "\n",
            "Epoch 00030: ReduceLROnPlateau reducing learning rate to 1.0000000656873453e-06.\n",
            "Epoch 31/50\n",
            " - 633s - loss: 0.0488 - categorical_accuracy: 0.9820 - val_loss: 0.2526 - val_categorical_accuracy: 0.9333\n",
            "Epoch 32/50\n",
            " - 634s - loss: 0.0498 - categorical_accuracy: 0.9818 - val_loss: 0.2528 - val_categorical_accuracy: 0.9333\n",
            "Epoch 33/50\n",
            " - 636s - loss: 0.0517 - categorical_accuracy: 0.9810 - val_loss: 0.2536 - val_categorical_accuracy: 0.9337\n",
            "Epoch 34/50\n",
            " - 639s - loss: 0.0510 - categorical_accuracy: 0.9812 - val_loss: 0.2533 - val_categorical_accuracy: 0.9332\n",
            "Epoch 35/50\n",
            " - 637s - loss: 0.0504 - categorical_accuracy: 0.9809 - val_loss: 0.2530 - val_categorical_accuracy: 0.9332\n",
            "Restoring model weights from the end of the best epoch\n",
            "\n",
            "Epoch 00035: ReduceLROnPlateau reducing learning rate to 1.0000001111620805e-07.\n",
            "Epoch 00035: early stopping\n",
            "14000/14000 [==============================] - 39s 3ms/step\n",
            "test loss 0.2158164670728147\n",
            "test acc:  0.9287142857142857\n"
          ],
          "name": "stdout"
        }
      ]
    },
    {
      "cell_type": "markdown",
      "metadata": {
        "id": "3kBHQXIWhidi",
        "colab_type": "text"
      },
      "source": [
        "# ***Fold 5***"
      ]
    },
    {
      "cell_type": "code",
      "metadata": {
        "id": "6eURjX-5hpwh",
        "colab_type": "code",
        "colab": {}
      },
      "source": [
        "x_train, y_train, x_test, y_test = get_fold(5)"
      ],
      "execution_count": 0,
      "outputs": []
    },
    {
      "cell_type": "code",
      "metadata": {
        "id": "atmijrgThn7W",
        "colab_type": "code",
        "colab": {}
      },
      "source": [
        "model = get_reNet()\n",
        "\n",
        "loss, acc = test_model_on_fold(model, x_train, y_train, x_test, y_test)\n",
        "print(\"test loss\", loss)\n",
        "print(\"test acc: \", acc)"
      ],
      "execution_count": 0,
      "outputs": []
    },
    {
      "cell_type": "code",
      "metadata": {
        "id": "UUENYsxfhnxc",
        "colab_type": "code",
        "colab": {}
      },
      "source": [
        "model = get_modif_reNet()\n",
        "\n",
        "loss, acc = test_model_on_fold(model, x_train, y_train, x_test, y_test)\n",
        "print(\"test loss\", loss)\n",
        "print(\"test acc: \", acc)"
      ],
      "execution_count": 0,
      "outputs": []
    },
    {
      "cell_type": "code",
      "metadata": {
        "id": "Y4ntwQiKhnT9",
        "colab_type": "code",
        "outputId": "91669ddb-130e-4c2c-f447-6f4eb2383b00",
        "colab": {
          "base_uri": "https://localhost:8080/",
          "height": 1635
        }
      },
      "source": [
        "model = get_conv()\n",
        "\n",
        "loss, acc = test_model_on_fold(model, x_train, y_train, x_test, y_test)\n",
        "print(\"test loss\", loss)\n",
        "print(\"test acc: \", acc)"
      ],
      "execution_count": 0,
      "outputs": [
        {
          "output_type": "stream",
          "text": [
            "WARNING:tensorflow:From /usr/local/lib/python3.6/dist-packages/tensorflow/python/framework/op_def_library.py:263: colocate_with (from tensorflow.python.framework.ops) is deprecated and will be removed in a future version.\n",
            "Instructions for updating:\n",
            "Colocations handled automatically by placer.\n",
            "WARNING:tensorflow:From /usr/local/lib/python3.6/dist-packages/keras/backend/tensorflow_backend.py:3445: calling dropout (from tensorflow.python.ops.nn_ops) with keep_prob is deprecated and will be removed in a future version.\n",
            "Instructions for updating:\n",
            "Please use `rate` instead of `keep_prob`. Rate should be set to `rate = 1 - keep_prob`.\n",
            "WARNING:tensorflow:From /usr/local/lib/python3.6/dist-packages/tensorflow/python/ops/math_ops.py:3066: to_int32 (from tensorflow.python.ops.math_ops) is deprecated and will be removed in a future version.\n",
            "Instructions for updating:\n",
            "Use tf.cast instead.\n",
            "Epoch 1/1\n",
            "1/1 [==============================] - 2s 2s/step - loss: 2.8508 - categorical_accuracy: 0.0000e+00\n",
            "Epoch 1/50\n",
            " - 621s - loss: 0.6617 - categorical_accuracy: 0.7859 - val_loss: 0.3668 - val_categorical_accuracy: 0.8661\n",
            "Epoch 2/50\n",
            " - 621s - loss: 0.4343 - categorical_accuracy: 0.8500 - val_loss: 0.3346 - val_categorical_accuracy: 0.8772\n",
            "Epoch 3/50\n",
            " - 621s - loss: 0.3722 - categorical_accuracy: 0.8688 - val_loss: 0.2923 - val_categorical_accuracy: 0.8950\n",
            "Epoch 4/50\n",
            " - 616s - loss: 0.3324 - categorical_accuracy: 0.8846 - val_loss: 0.2727 - val_categorical_accuracy: 0.8996\n",
            "Epoch 5/50\n",
            " - 620s - loss: 0.2971 - categorical_accuracy: 0.8944 - val_loss: 0.2646 - val_categorical_accuracy: 0.9059\n",
            "Epoch 6/50\n",
            " - 622s - loss: 0.2702 - categorical_accuracy: 0.9034 - val_loss: 0.2313 - val_categorical_accuracy: 0.9181\n",
            "Epoch 7/50\n",
            " - 620s - loss: 0.2466 - categorical_accuracy: 0.9099 - val_loss: 0.2375 - val_categorical_accuracy: 0.9126\n",
            "Epoch 8/50\n",
            " - 617s - loss: 0.2312 - categorical_accuracy: 0.9150 - val_loss: 0.2320 - val_categorical_accuracy: 0.9127\n",
            "Epoch 9/50\n",
            " - 620s - loss: 0.2141 - categorical_accuracy: 0.9225 - val_loss: 0.2228 - val_categorical_accuracy: 0.9200\n",
            "Epoch 10/50\n",
            " - 621s - loss: 0.2039 - categorical_accuracy: 0.9269 - val_loss: 0.2186 - val_categorical_accuracy: 0.9206\n",
            "Epoch 11/50\n",
            " - 619s - loss: 0.1889 - categorical_accuracy: 0.9299 - val_loss: 0.2268 - val_categorical_accuracy: 0.9175\n",
            "Epoch 12/50\n",
            " - 621s - loss: 0.1824 - categorical_accuracy: 0.9338 - val_loss: 0.2452 - val_categorical_accuracy: 0.9184\n",
            "Epoch 13/50\n",
            " - 620s - loss: 0.1750 - categorical_accuracy: 0.9364 - val_loss: 0.2150 - val_categorical_accuracy: 0.9231\n",
            "Epoch 14/50\n",
            " - 623s - loss: 0.1629 - categorical_accuracy: 0.9398 - val_loss: 0.2371 - val_categorical_accuracy: 0.9224\n",
            "Epoch 15/50\n",
            " - 621s - loss: 0.1575 - categorical_accuracy: 0.9434 - val_loss: 0.2115 - val_categorical_accuracy: 0.9268\n",
            "Epoch 16/50\n",
            " - 614s - loss: 0.1507 - categorical_accuracy: 0.9448 - val_loss: 0.2482 - val_categorical_accuracy: 0.9185\n",
            "Epoch 17/50\n",
            " - 614s - loss: 0.1445 - categorical_accuracy: 0.9465 - val_loss: 0.2226 - val_categorical_accuracy: 0.9275\n",
            "Epoch 18/50\n",
            " - 615s - loss: 0.1366 - categorical_accuracy: 0.9509 - val_loss: 0.2206 - val_categorical_accuracy: 0.9252\n",
            "Epoch 19/50\n",
            " - 611s - loss: 0.1289 - categorical_accuracy: 0.9515 - val_loss: 0.2314 - val_categorical_accuracy: 0.9235\n",
            "Epoch 20/50\n",
            " - 614s - loss: 0.1300 - categorical_accuracy: 0.9525 - val_loss: 0.2349 - val_categorical_accuracy: 0.9250\n",
            "\n",
            "Epoch 00020: ReduceLROnPlateau reducing learning rate to 0.00010000000474974513.\n",
            "Epoch 21/50\n",
            " - 617s - loss: 0.0932 - categorical_accuracy: 0.9662 - val_loss: 0.2233 - val_categorical_accuracy: 0.9304\n",
            "Epoch 22/50\n",
            " - 619s - loss: 0.0785 - categorical_accuracy: 0.9711 - val_loss: 0.2332 - val_categorical_accuracy: 0.9316\n",
            "Epoch 23/50\n",
            " - 620s - loss: 0.0705 - categorical_accuracy: 0.9737 - val_loss: 0.2362 - val_categorical_accuracy: 0.9317\n",
            "Epoch 24/50\n",
            " - 620s - loss: 0.0653 - categorical_accuracy: 0.9757 - val_loss: 0.2418 - val_categorical_accuracy: 0.9320\n",
            "Epoch 25/50\n",
            " - 617s - loss: 0.0600 - categorical_accuracy: 0.9777 - val_loss: 0.2458 - val_categorical_accuracy: 0.9321\n",
            "\n",
            "Epoch 00025: ReduceLROnPlateau reducing learning rate to 1.0000000474974514e-05.\n",
            "Epoch 26/50\n",
            " - 619s - loss: 0.0547 - categorical_accuracy: 0.9802 - val_loss: 0.2497 - val_categorical_accuracy: 0.9320\n",
            "Epoch 27/50\n",
            " - 619s - loss: 0.0558 - categorical_accuracy: 0.9799 - val_loss: 0.2492 - val_categorical_accuracy: 0.9325\n",
            "Epoch 28/50\n",
            " - 621s - loss: 0.0530 - categorical_accuracy: 0.9802 - val_loss: 0.2513 - val_categorical_accuracy: 0.9329\n",
            "Epoch 29/50\n",
            " - 621s - loss: 0.0547 - categorical_accuracy: 0.9797 - val_loss: 0.2527 - val_categorical_accuracy: 0.9332\n",
            "Epoch 30/50\n",
            " - 621s - loss: 0.0521 - categorical_accuracy: 0.9814 - val_loss: 0.2535 - val_categorical_accuracy: 0.9331\n",
            "\n",
            "Epoch 00030: ReduceLROnPlateau reducing learning rate to 1.0000000656873453e-06.\n",
            "Epoch 31/50\n",
            " - 622s - loss: 0.0531 - categorical_accuracy: 0.9803 - val_loss: 0.2539 - val_categorical_accuracy: 0.9331\n",
            "Epoch 32/50\n",
            " - 621s - loss: 0.0520 - categorical_accuracy: 0.9808 - val_loss: 0.2532 - val_categorical_accuracy: 0.9327\n",
            "Epoch 33/50\n",
            " - 620s - loss: 0.0531 - categorical_accuracy: 0.9809 - val_loss: 0.2533 - val_categorical_accuracy: 0.9331\n",
            "Epoch 34/50\n",
            " - 618s - loss: 0.0524 - categorical_accuracy: 0.9809 - val_loss: 0.2535 - val_categorical_accuracy: 0.9331\n",
            "Epoch 35/50\n",
            " - 622s - loss: 0.0513 - categorical_accuracy: 0.9815 - val_loss: 0.2543 - val_categorical_accuracy: 0.9325\n",
            "Restoring model weights from the end of the best epoch\n",
            "\n",
            "Epoch 00035: ReduceLROnPlateau reducing learning rate to 1.0000001111620805e-07.\n",
            "Epoch 00035: early stopping\n",
            "14000/14000 [==============================] - 38s 3ms/step\n",
            "test loss 0.2114585111982056\n",
            "test acc:  0.9267857142857143\n"
          ],
          "name": "stdout"
        }
      ]
    }
  ]
}